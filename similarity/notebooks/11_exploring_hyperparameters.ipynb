{
 "cells": [
  {
   "cell_type": "markdown",
   "metadata": {},
   "source": [
    "<i>Copyright (c) Microsoft Corporation. All rights reserved.</i>\n",
    "\n",
    "<i>Licensed under the MIT License.</i>"
   ]
  },
  {
   "cell_type": "markdown",
   "metadata": {},
   "source": [
    "# Testing different Hyperparameters and Benchmarking"
   ]
  },
  {
   "cell_type": "markdown",
   "metadata": {},
   "source": [
    "In this notebook, we'll cover how to test different hyperparameters for a particular dataset and how to benchmark different parameters across a group of datasets.\n",
    "\n",
    "For an example of how to scale up with remote GPU clusters on Azure Machine Learning, please view [24_exploring_hyperparameters_on_azureml.ipynb](../24_exploring_hyperparameters_on_azureml).\n",
    "## Table of Contents\n",
    "\n",
    "* [Testing hyperparameters](#hyperparam)\n",
    "  * [Using Python](#python)\n",
    "  * [Using the CLI](#cli)\n",
    "  * [Visualizing the results](#visualize)\n",
    "\n",
    "---"
   ]
  },
  {
   "cell_type": "markdown",
   "metadata": {},
   "source": [
    "## Testing hyperparameters  <a name=\"hyperparam\"></a>\n",
    "\n",
    "Let's say we want to learn more about __how different learning rates and different image sizes affect our model's accuracy when restricted to 10 epochs__, and we want to build an experiment to test out these hyperparameters. We also want to try these parameters out on two different variations of the dataset - one where the images are kept raw (maybe there is a watermark on the image) and one where the images have been altered (the same dataset where there was some attempt to remove the watermark).\n",
    "\n",
    "In this notebook, we'll walk through how we use the Parameter Sweeper module with the following:\n",
    "\n",
    "- use python to perform this experiment\n",
    "- use the CLI to perform this experiment\n",
    "- evalute the results using Pandas"
   ]
  },
  {
   "cell_type": "markdown",
   "metadata": {},
   "source": [
    "Ensure edits to libraries are loaded and plotting is shown in the notebook."
   ]
  },
  {
   "cell_type": "code",
   "execution_count": 11,
   "metadata": {},
   "outputs": [],
   "source": [
    "%reload_ext autoreload\n",
    "%autoreload 2\n",
    "%matplotlib inline"
   ]
  },
  {
   "cell_type": "markdown",
   "metadata": {},
   "source": [
    "We start by importing the utilities we need."
   ]
  },
  {
   "cell_type": "code",
   "execution_count": 12,
   "metadata": {},
   "outputs": [
    {
     "data": {
      "text/plain": [
       "'1.0.48'"
      ]
     },
     "execution_count": 12,
     "metadata": {},
     "output_type": "execute_result"
    }
   ],
   "source": [
    "import sys\n",
    "import numpy as np\n",
    "import scrapbook as sb\n",
    "import fastai\n",
    "from fastai.vision import DatasetType\n",
    "\n",
    "sys.path.append(\"../../\")\n",
    "from utils_cv.classification.data import Urls\n",
    "from utils_cv.common.data import unzip_url\n",
    "from utils_cv.classification.parameter_sweeper import ParameterSweeper, clean_sweeper_df, plot_sweeper_df\n",
    "from utils_cv.similarity.data import comparative_set_builder\n",
    "from utils_cv.similarity.metrics import positive_image_ranks\n",
    "from utils_cv.similarity.model import compute_features_learner\n",
    "\n",
    "fastai.__version__"
   ]
  },
  {
   "cell_type": "markdown",
   "metadata": {},
   "source": [
    "To use the Parameter Sweeper tool for single label classification, we'll need to make sure that the data is stored such that images are sorted into their classes inside of a subfolder. In this notebook, we'll use the Fridge Objects dataset, which is already stored in the correct format. We also want to use the Fridge Objects Watermarked dataset. We want to see whether the original images (which are watermarked) will perform just as well as the non-watermarked images.\n",
    "\n",
    "Define some parameters we will use in this notebook"
   ]
  },
  {
   "cell_type": "code",
   "execution_count": 13,
   "metadata": {
    "tags": [
     "parameters"
    ]
   },
   "outputs": [],
   "source": [
    "#from urlparse import urljoin\n",
    "base = \"https://cvbp.blob.core.windows.net/public/datasets/image_classification/\"\n",
    "food_101_subset_path = os.path.join(base, \"food101Subset.zip\")\n",
    "fashion_texture_path = os.path.join(base, \"fashionTexture.zip\")\n",
    "flickr_logos_32_subset_path = os.path.join(base, \"flickrLogos32Subset.zip\")\n",
    "lettuce_path = os.path.join(base, \"lettuce.zip\")\n",
    "recycle_path = os.path.join(base, \"recycle_v3.zip\")\n",
    "# DATA = [unzip_url(Urls.fridge_objects_path, exist_ok=True),\n",
    "#         unzip_url(lettuce_path, exist_ok=True),\n",
    "#         unzip_url(recycle_path, exist_ok=True),\n",
    "#         unzip_url(fashion_texture_path, exist_ok=True),\n",
    "#         unzip_url(flickr_logos_32_subset_path, exist_ok=True),\n",
    "#         unzip_url(food_101_subset_path, exist_ok=True)]\n",
    "\n",
    "DATA = [unzip_url(Urls.fridge_objects_tiny_path, exist_ok=True)]\n",
    "REPS = 1 #3\n",
    "LEARNING_RATES = [1e-3, 1e-4, 1e-5]\n",
    "IM_SIZES = [299, 499]\n",
    "EPOCHS = [0] # [10]"
   ]
  },
  {
   "cell_type": "markdown",
   "metadata": {},
   "source": [
    "### Similiarity accuracy metric\n",
    "\n",
    "We below define how to measure accuracy of our image retrieval system. Note that this is identical to the code in the [01_training_and_evaluation_introduction.ipynb](01_training_and_evaluation_introduction.ipynb) notebook."
   ]
  },
  {
   "cell_type": "code",
   "execution_count": 14,
   "metadata": {},
   "outputs": [],
   "source": [
    "def similarity_accuracy(learn):\n",
    "    data = learn.data\n",
    "\n",
    "    # Build multiple sets of comparative images from the validation images\n",
    "    comparative_sets = comparative_set_builder(\n",
    "        data.valid_ds, num_sets=1000, num_negatives=99\n",
    "    )\n",
    "\n",
    "    # Compute DNN features for all validation images\n",
    "    embedding_layer = learn.model[1][6]\n",
    "    valid_features = compute_features_learner(\n",
    "        data, DatasetType.Valid, learn, embedding_layer\n",
    "    )\n",
    "\n",
    "    # For each comparative set compute the distances between the query image and all reference images\n",
    "    for cs in comparative_sets:\n",
    "        cs.compute_distances(valid_features)\n",
    "\n",
    "    # Compute the median rank of the positive example over all comparative sets\n",
    "    ranks = positive_image_ranks(comparative_sets)\n",
    "    median_rank = np.median(ranks)\n",
    "    return median_rank"
   ]
  },
  {
   "cell_type": "markdown",
   "metadata": {},
   "source": [
    "### Using Python <a name=\"python\"></a>"
   ]
  },
  {
   "cell_type": "markdown",
   "metadata": {},
   "source": [
    "We start by creating the Parameter Sweeper object:"
   ]
  },
  {
   "cell_type": "code",
   "execution_count": 15,
   "metadata": {},
   "outputs": [],
   "source": [
    "sweeper = ParameterSweeper()"
   ]
  },
  {
   "cell_type": "markdown",
   "metadata": {},
   "source": [
    "Before we start testing, it's a good idea to see what the default parameters are. We can use a the property `parameters` to easily see those default values."
   ]
  },
  {
   "cell_type": "code",
   "execution_count": 16,
   "metadata": {},
   "outputs": [
    {
     "data": {
      "text/plain": [
       "OrderedDict([('learning_rate', [0.0001]),\n",
       "             ('epochs', [15]),\n",
       "             ('batch_size', [16]),\n",
       "             ('im_size', [299]),\n",
       "             ('architecture',\n",
       "              [<Architecture.resnet18: functools.partial(<function resnet18 at 0x00000163A028DAE8>)>]),\n",
       "             ('transform', [True]),\n",
       "             ('dropout', [0.5]),\n",
       "             ('weight_decay', [0.01]),\n",
       "             ('training_schedule',\n",
       "              [<TrainingSchedule.head_first_then_body: 'head_first_then_body'>]),\n",
       "             ('discriminative_lr', [False]),\n",
       "             ('one_cycle_policy', [True])])"
      ]
     },
     "execution_count": 16,
     "metadata": {},
     "output_type": "execute_result"
    }
   ],
   "source": [
    "sweeper.parameters"
   ]
  },
  {
   "cell_type": "markdown",
   "metadata": {},
   "source": [
    "Now that we know the defaults, we can pass it the parameters we want to test. \n",
    "\n",
    "In this notebook, we want to see the effect of different learning rates across different image sizes using only 10 epochs (the default number of epochs is 15). To do so, I would run the `update_parameters` functions as follows:\n",
    "\n",
    "```python\n",
    "sweeper.update_parameters(learning_rate=[1e-3, 1e-4, 1e-5], im_size=[299, 499], epochs=[10])\n",
    "```\n",
    "\n",
    "Notice that all parameters must be passed in as a list, including single values such the number of epochs.\n",
    "\n",
    "These parameters will be used to calculate the number of permutations to run. In this case, we've pass in three options for learning rates, two for image sizes, and one for number of epochs. This will result in 3 X 2 X 1 total permutations (in otherwords, 6 permutations). "
   ]
  },
  {
   "cell_type": "code",
   "execution_count": 17,
   "metadata": {},
   "outputs": [
    {
     "data": {
      "text/plain": [
       "<utils_cv.classification.parameter_sweeper.ParameterSweeper at 0x163a04b5cf8>"
      ]
     },
     "execution_count": 17,
     "metadata": {},
     "output_type": "execute_result"
    }
   ],
   "source": [
    "sweeper.update_parameters(learning_rate=LEARNING_RATES, im_size=IM_SIZES, epochs=EPOCHS)"
   ]
  },
  {
   "cell_type": "markdown",
   "metadata": {},
   "source": [
    "Now that we have our parameters defined, we call the `run()` function with the dataset to test on. We can also optionally pass in:\n",
    "- the number of repetitions to run each permutation (default is 3)\n",
    "- whether or not we want the training to stop early if the metric (accuracy) doesn't improve by 0.01 (1%) over 3 epochs (default is False)\n",
    "\n",
    "The `run` function returns a multi-index dataframe which we can work with right away."
   ]
  },
  {
   "cell_type": "code",
   "execution_count": 18,
   "metadata": {},
   "outputs": [
    {
     "name": "stdout",
     "output_type": "stream",
     "text": [
      "this Learner object self-destroyed - it still exists, but no longer usable\n"
     ]
    },
    {
     "data": {
      "text/html": [
       "<div>\n",
       "<style scoped>\n",
       "    .dataframe tbody tr th:only-of-type {\n",
       "        vertical-align: middle;\n",
       "    }\n",
       "\n",
       "    .dataframe tbody tr th {\n",
       "        vertical-align: top;\n",
       "    }\n",
       "\n",
       "    .dataframe thead th {\n",
       "        text-align: right;\n",
       "    }\n",
       "</style>\n",
       "<table border=\"1\" class=\"dataframe\">\n",
       "  <thead>\n",
       "    <tr style=\"text-align: right;\">\n",
       "      <th></th>\n",
       "      <th></th>\n",
       "      <th></th>\n",
       "      <th>duration</th>\n",
       "      <th>accuracy</th>\n",
       "    </tr>\n",
       "  </thead>\n",
       "  <tbody>\n",
       "    <tr>\n",
       "      <th rowspan=\"6\" valign=\"top\">0</th>\n",
       "      <th>PARAMETERS [learning_rate: 0.0001]|[epochs: 0]|[batch_size: 16]|[im_size: 299]|[arch: resnet18]|[transforms: True]|[dropout: 0.5]|[weight_decay: 0.01]|[training_schedule: head_first_then_body]|[discriminative_lr: False]|[one_cycle_policy: True]</th>\n",
       "      <th>fridgeObjectsTiny</th>\n",
       "      <td>2.199737</td>\n",
       "      <td>14.0</td>\n",
       "    </tr>\n",
       "    <tr>\n",
       "      <th>PARAMETERS [learning_rate: 0.0001]|[epochs: 0]|[batch_size: 16]|[im_size: 499]|[arch: resnet18]|[transforms: True]|[dropout: 0.5]|[weight_decay: 0.01]|[training_schedule: head_first_then_body]|[discriminative_lr: False]|[one_cycle_policy: True]</th>\n",
       "      <th>fridgeObjectsTiny</th>\n",
       "      <td>3.509203</td>\n",
       "      <td>15.0</td>\n",
       "    </tr>\n",
       "    <tr>\n",
       "      <th>PARAMETERS [learning_rate: 0.001]|[epochs: 0]|[batch_size: 16]|[im_size: 299]|[arch: resnet18]|[transforms: True]|[dropout: 0.5]|[weight_decay: 0.01]|[training_schedule: head_first_then_body]|[discriminative_lr: False]|[one_cycle_policy: True]</th>\n",
       "      <th>fridgeObjectsTiny</th>\n",
       "      <td>5.701824</td>\n",
       "      <td>19.0</td>\n",
       "    </tr>\n",
       "    <tr>\n",
       "      <th>PARAMETERS [learning_rate: 0.001]|[epochs: 0]|[batch_size: 16]|[im_size: 499]|[arch: resnet18]|[transforms: True]|[dropout: 0.5]|[weight_decay: 0.01]|[training_schedule: head_first_then_body]|[discriminative_lr: False]|[one_cycle_policy: True]</th>\n",
       "      <th>fridgeObjectsTiny</th>\n",
       "      <td>3.551486</td>\n",
       "      <td>26.0</td>\n",
       "    </tr>\n",
       "    <tr>\n",
       "      <th>PARAMETERS [learning_rate: 1e-05]|[epochs: 0]|[batch_size: 16]|[im_size: 299]|[arch: resnet18]|[transforms: True]|[dropout: 0.5]|[weight_decay: 0.01]|[training_schedule: head_first_then_body]|[discriminative_lr: False]|[one_cycle_policy: True]</th>\n",
       "      <th>fridgeObjectsTiny</th>\n",
       "      <td>2.116648</td>\n",
       "      <td>14.0</td>\n",
       "    </tr>\n",
       "    <tr>\n",
       "      <th>PARAMETERS [learning_rate: 1e-05]|[epochs: 0]|[batch_size: 16]|[im_size: 499]|[arch: resnet18]|[transforms: True]|[dropout: 0.5]|[weight_decay: 0.01]|[training_schedule: head_first_then_body]|[discriminative_lr: False]|[one_cycle_policy: True]</th>\n",
       "      <th>fridgeObjectsTiny</th>\n",
       "      <td>3.723362</td>\n",
       "      <td>28.0</td>\n",
       "    </tr>\n",
       "  </tbody>\n",
       "</table>\n",
       "</div>"
      ],
      "text/plain": [
       "                                                                        duration  \\\n",
       "0 PARAMETERS [learning_rate: 0.0001]|[epochs: 0]|... fridgeObjectsTiny  2.199737   \n",
       "  PARAMETERS [learning_rate: 0.0001]|[epochs: 0]|... fridgeObjectsTiny  3.509203   \n",
       "  PARAMETERS [learning_rate: 0.001]|[epochs: 0]|[... fridgeObjectsTiny  5.701824   \n",
       "  PARAMETERS [learning_rate: 0.001]|[epochs: 0]|[... fridgeObjectsTiny  3.551486   \n",
       "  PARAMETERS [learning_rate: 1e-05]|[epochs: 0]|[... fridgeObjectsTiny  2.116648   \n",
       "  PARAMETERS [learning_rate: 1e-05]|[epochs: 0]|[... fridgeObjectsTiny  3.723362   \n",
       "\n",
       "                                                                        accuracy  \n",
       "0 PARAMETERS [learning_rate: 0.0001]|[epochs: 0]|... fridgeObjectsTiny      14.0  \n",
       "  PARAMETERS [learning_rate: 0.0001]|[epochs: 0]|... fridgeObjectsTiny      15.0  \n",
       "  PARAMETERS [learning_rate: 0.001]|[epochs: 0]|[... fridgeObjectsTiny      19.0  \n",
       "  PARAMETERS [learning_rate: 0.001]|[epochs: 0]|[... fridgeObjectsTiny      26.0  \n",
       "  PARAMETERS [learning_rate: 1e-05]|[epochs: 0]|[... fridgeObjectsTiny      14.0  \n",
       "  PARAMETERS [learning_rate: 1e-05]|[epochs: 0]|[... fridgeObjectsTiny      28.0  "
      ]
     },
     "execution_count": 18,
     "metadata": {},
     "output_type": "execute_result"
    }
   ],
   "source": [
    "df = sweeper.run(datasets=DATA, reps=REPS, accuracy_hook=similarity_accuracy); df"
   ]
  },
  {
   "cell_type": "markdown",
   "metadata": {},
   "source": [
    "### Using the CLI <a name=\"cli\"></a>\n",
    "\n",
    "Instead of using python to run this experiment, we may want to test from the CLI. We can do so by using the `scripts/sweep.py` file. \n",
    "\n",
    "To reproduce the same test (different learning rates across different image sizes using only 10 epochs), and the same settings (3 repetitions, and no early_stopping) we can run the following:\n",
    "\n",
    "```sh\n",
    "python scripts/sweep.py \n",
    "    --learning-rates 1e-3 1e-4 1e-5\n",
    "    --im-size 99 299\n",
    "    --epochs 10 \n",
    "    --repeat 3 \n",
    "    --no-early-stopping \n",
    "    --inputs <my-data-dir>\n",
    "    --output lr_bs_test.csv\n",
    "```\n",
    "\n",
    "Additionally, we've added an output parameter, which will automatically dump our dataframe into a csv file. To simplify the command, we can use the acryonyms of the params. We can also remove `--no-early-stopping` as that is the default behavior.\n",
    "\n",
    "```sh\n",
    "python scripts/sweep.py -lr 1e-3 1e-4 1e-5 -is 99 299 -e 10 -i <my-data-dir> -o lr_bs_test.csv\n",
    "```\n",
    "\n",
    "Once the script completes, load the csv into a dataframe to explore it's contents. We'll want to specify `index_col=[0, 1, 2]` since it is a multi-index dataframe.\n",
    "\n",
    "```python\n",
    "df = pd.read_csv(\"data/lr_bs_test.csv\", index_col=[0, 1, 2])\n",
    "```\n",
    "\n",
    "HINT: You can learn more about how to use the script with the `--help` flag.\n",
    "\n",
    "```python\n",
    "python scripts/sweep.py --help\n",
    "```"
   ]
  },
  {
   "cell_type": "markdown",
   "metadata": {},
   "source": [
    "### Visualize Results <a name=\"visualize\"></a>"
   ]
  },
  {
   "cell_type": "markdown",
   "metadata": {},
   "source": [
    "When we read in multi-index dataframe, index 0 represents the run number, index 1 represents a single permutation of parameters, and index 2 represents the dataset."
   ]
  },
  {
   "cell_type": "markdown",
   "metadata": {},
   "source": [
    "To see the results, show the df using the `clean_sweeper_df` helper function. This will display all the hyperparameters in a nice, readable way."
   ]
  },
  {
   "cell_type": "code",
   "execution_count": 19,
   "metadata": {},
   "outputs": [],
   "source": [
    "df = clean_sweeper_df(df)"
   ]
  },
  {
   "cell_type": "markdown",
   "metadata": {},
   "source": [
    "Since we've run our benchmarking over 3 repetitions, we may want to just look at the averages across the different __run numbers__."
   ]
  },
  {
   "cell_type": "code",
   "execution_count": 20,
   "metadata": {},
   "outputs": [
    {
     "data": {
      "text/html": [
       "<div>\n",
       "<style scoped>\n",
       "    .dataframe tbody tr th:only-of-type {\n",
       "        vertical-align: middle;\n",
       "    }\n",
       "\n",
       "    .dataframe tbody tr th {\n",
       "        vertical-align: top;\n",
       "    }\n",
       "\n",
       "    .dataframe thead tr th {\n",
       "        text-align: left;\n",
       "    }\n",
       "</style>\n",
       "<table border=\"1\" class=\"dataframe\">\n",
       "  <thead>\n",
       "    <tr>\n",
       "      <th></th>\n",
       "      <th>P: [learning_rate: 0.0001] [im_size: 299]</th>\n",
       "      <th>P: [learning_rate: 0.0001] [im_size: 499]</th>\n",
       "      <th>P: [learning_rate: 0.001] [im_size: 299]</th>\n",
       "      <th>P: [learning_rate: 0.001] [im_size: 499]</th>\n",
       "      <th>P: [learning_rate: 1e-05] [im_size: 299]</th>\n",
       "      <th>P: [learning_rate: 1e-05] [im_size: 499]</th>\n",
       "    </tr>\n",
       "    <tr>\n",
       "      <th></th>\n",
       "      <th>fridgeObjectsTiny</th>\n",
       "      <th>fridgeObjectsTiny</th>\n",
       "      <th>fridgeObjectsTiny</th>\n",
       "      <th>fridgeObjectsTiny</th>\n",
       "      <th>fridgeObjectsTiny</th>\n",
       "      <th>fridgeObjectsTiny</th>\n",
       "    </tr>\n",
       "  </thead>\n",
       "  <tbody>\n",
       "    <tr>\n",
       "      <th>duration</th>\n",
       "      <td>2.199737</td>\n",
       "      <td>3.509203</td>\n",
       "      <td>5.701824</td>\n",
       "      <td>3.551486</td>\n",
       "      <td>2.116648</td>\n",
       "      <td>3.723362</td>\n",
       "    </tr>\n",
       "    <tr>\n",
       "      <th>accuracy</th>\n",
       "      <td>14.000000</td>\n",
       "      <td>15.000000</td>\n",
       "      <td>19.000000</td>\n",
       "      <td>26.000000</td>\n",
       "      <td>14.000000</td>\n",
       "      <td>28.000000</td>\n",
       "    </tr>\n",
       "  </tbody>\n",
       "</table>\n",
       "</div>"
      ],
      "text/plain": [
       "         P: [learning_rate: 0.0001] [im_size: 299]  \\\n",
       "                                 fridgeObjectsTiny   \n",
       "duration                                  2.199737   \n",
       "accuracy                                 14.000000   \n",
       "\n",
       "         P: [learning_rate: 0.0001] [im_size: 499]  \\\n",
       "                                 fridgeObjectsTiny   \n",
       "duration                                  3.509203   \n",
       "accuracy                                 15.000000   \n",
       "\n",
       "         P: [learning_rate: 0.001] [im_size: 299]  \\\n",
       "                                fridgeObjectsTiny   \n",
       "duration                                 5.701824   \n",
       "accuracy                                19.000000   \n",
       "\n",
       "         P: [learning_rate: 0.001] [im_size: 499]  \\\n",
       "                                fridgeObjectsTiny   \n",
       "duration                                 3.551486   \n",
       "accuracy                                26.000000   \n",
       "\n",
       "         P: [learning_rate: 1e-05] [im_size: 299]  \\\n",
       "                                fridgeObjectsTiny   \n",
       "duration                                 2.116648   \n",
       "accuracy                                14.000000   \n",
       "\n",
       "         P: [learning_rate: 1e-05] [im_size: 499]  \n",
       "                                fridgeObjectsTiny  \n",
       "duration                                 3.723362  \n",
       "accuracy                                28.000000  "
      ]
     },
     "execution_count": 20,
     "metadata": {},
     "output_type": "execute_result"
    }
   ],
   "source": [
    "df.mean(level=(1,2)).T"
   ]
  },
  {
   "cell_type": "markdown",
   "metadata": {},
   "source": [
    "Print the average accuracy over the different runs for each dataset independently."
   ]
  },
  {
   "cell_type": "code",
   "execution_count": 29,
   "metadata": {},
   "outputs": [
    {
     "data": {
      "image/png": "[encoded data removed]",
      "text/plain": [
       "<Figure size 864x432 with 1 Axes>"
      ]
     },
     "metadata": {
      "needs_background": "light"
     },
     "output_type": "display_data"
    }
   ],
   "source": [
    "ax = df.mean(level=(1,2))[\"accuracy\"].unstack().plot(kind='bar', figsize=(12, 6))\n",
    "#ax.set_yticklabels(['{:,.2%}'.format(x) for x in ax.get_yticks()])"
   ]
  },
  {
   "cell_type": "markdown",
   "metadata": {},
   "source": [
    "Additionally, we may want simply to see which set of hyperparameters perform the best across the different __datasets__. We can do that by averaging the results of the different datasets."
   ]
  },
  {
   "cell_type": "code",
   "execution_count": 22,
   "metadata": {
    "scrolled": true
   },
   "outputs": [
    {
     "data": {
      "text/html": [
       "<div>\n",
       "<style scoped>\n",
       "    .dataframe tbody tr th:only-of-type {\n",
       "        vertical-align: middle;\n",
       "    }\n",
       "\n",
       "    .dataframe tbody tr th {\n",
       "        vertical-align: top;\n",
       "    }\n",
       "\n",
       "    .dataframe thead th {\n",
       "        text-align: right;\n",
       "    }\n",
       "</style>\n",
       "<table border=\"1\" class=\"dataframe\">\n",
       "  <thead>\n",
       "    <tr style=\"text-align: right;\">\n",
       "      <th></th>\n",
       "      <th>P: [learning_rate: 0.0001] [im_size: 299]</th>\n",
       "      <th>P: [learning_rate: 0.0001] [im_size: 499]</th>\n",
       "      <th>P: [learning_rate: 0.001] [im_size: 299]</th>\n",
       "      <th>P: [learning_rate: 0.001] [im_size: 499]</th>\n",
       "      <th>P: [learning_rate: 1e-05] [im_size: 299]</th>\n",
       "      <th>P: [learning_rate: 1e-05] [im_size: 499]</th>\n",
       "    </tr>\n",
       "  </thead>\n",
       "  <tbody>\n",
       "    <tr>\n",
       "      <th>duration</th>\n",
       "      <td>2.199737</td>\n",
       "      <td>3.509203</td>\n",
       "      <td>5.701824</td>\n",
       "      <td>3.551486</td>\n",
       "      <td>2.116648</td>\n",
       "      <td>3.723362</td>\n",
       "    </tr>\n",
       "    <tr>\n",
       "      <th>accuracy</th>\n",
       "      <td>14.000000</td>\n",
       "      <td>15.000000</td>\n",
       "      <td>19.000000</td>\n",
       "      <td>26.000000</td>\n",
       "      <td>14.000000</td>\n",
       "      <td>28.000000</td>\n",
       "    </tr>\n",
       "  </tbody>\n",
       "</table>\n",
       "</div>"
      ],
      "text/plain": [
       "          P: [learning_rate: 0.0001] [im_size: 299]  \\\n",
       "duration                                   2.199737   \n",
       "accuracy                                  14.000000   \n",
       "\n",
       "          P: [learning_rate: 0.0001] [im_size: 499]  \\\n",
       "duration                                   3.509203   \n",
       "accuracy                                  15.000000   \n",
       "\n",
       "          P: [learning_rate: 0.001] [im_size: 299]  \\\n",
       "duration                                  5.701824   \n",
       "accuracy                                 19.000000   \n",
       "\n",
       "          P: [learning_rate: 0.001] [im_size: 499]  \\\n",
       "duration                                  3.551486   \n",
       "accuracy                                 26.000000   \n",
       "\n",
       "          P: [learning_rate: 1e-05] [im_size: 299]  \\\n",
       "duration                                  2.116648   \n",
       "accuracy                                 14.000000   \n",
       "\n",
       "          P: [learning_rate: 1e-05] [im_size: 499]  \n",
       "duration                                  3.723362  \n",
       "accuracy                                 28.000000  "
      ]
     },
     "execution_count": 22,
     "metadata": {},
     "output_type": "execute_result"
    }
   ],
   "source": [
    "df.mean(level=(1)).T"
   ]
  },
  {
   "cell_type": "markdown",
   "metadata": {},
   "source": [
    "To make it easier to see which permutation did the best, we can plot the results using the `plot_sweeper_df` helper function. This plot will help us easily see which parameters offer the highest accuracies."
   ]
  },
  {
   "cell_type": "code",
   "execution_count": 23,
   "metadata": {},
   "outputs": [
    {
     "data": {
      "image/png": "[encoded data removed]",
      "text/plain": [
       "<Figure size 864x576 with 2 Axes>"
      ]
     },
     "metadata": {
      "needs_background": "light"
     },
     "output_type": "display_data"
    }
   ],
   "source": [
    "plot_sweeper_df(df.mean(level=(1)), sort_by=\"accuracy\")"
   ]
  },
  {
   "cell_type": "code",
   "execution_count": 24,
   "metadata": {},
   "outputs": [
    {
     "ename": "AttributeError",
     "evalue": "module 'scrapbook' has no attribute 'glue'",
     "output_type": "error",
     "traceback": [
      "\u001b[1;31m---------------------------------------------------------------------------\u001b[0m",
      "\u001b[1;31mAttributeError\u001b[0m                            Traceback (most recent call last)",
      "\u001b[1;32m<ipython-input-24-fa4b561b3658>\u001b[0m in \u001b[0;36m<module>\u001b[1;34m\u001b[0m\n\u001b[0;32m      1\u001b[0m \u001b[1;31m# Preserve some of the notebook outputs\u001b[0m\u001b[1;33m\u001b[0m\u001b[1;33m\u001b[0m\u001b[1;33m\u001b[0m\u001b[0m\n\u001b[1;32m----> 2\u001b[1;33m \u001b[0msb\u001b[0m\u001b[1;33m.\u001b[0m\u001b[0mglue\u001b[0m\u001b[1;33m(\u001b[0m\u001b[1;34m\"nr_elements\"\u001b[0m\u001b[1;33m,\u001b[0m \u001b[0mlen\u001b[0m\u001b[1;33m(\u001b[0m\u001b[0mdf\u001b[0m\u001b[1;33m)\u001b[0m\u001b[1;33m)\u001b[0m\u001b[1;33m\u001b[0m\u001b[1;33m\u001b[0m\u001b[0m\n\u001b[0m\u001b[0;32m      3\u001b[0m \u001b[0msb\u001b[0m\u001b[1;33m.\u001b[0m\u001b[0mglue\u001b[0m\u001b[1;33m(\u001b[0m\u001b[1;34m\"max_accuray\"\u001b[0m\u001b[1;33m,\u001b[0m \u001b[0mdf\u001b[0m\u001b[1;33m.\u001b[0m\u001b[0mmax\u001b[0m\u001b[1;33m(\u001b[0m\u001b[1;33m)\u001b[0m\u001b[1;33m.\u001b[0m\u001b[0maccuracy\u001b[0m\u001b[1;33m)\u001b[0m\u001b[1;33m\u001b[0m\u001b[1;33m\u001b[0m\u001b[0m\n\u001b[0;32m      4\u001b[0m \u001b[0msb\u001b[0m\u001b[1;33m.\u001b[0m\u001b[0mglue\u001b[0m\u001b[1;33m(\u001b[0m\u001b[1;34m\"min_accuray\"\u001b[0m\u001b[1;33m,\u001b[0m \u001b[0mdf\u001b[0m\u001b[1;33m.\u001b[0m\u001b[0mmin\u001b[0m\u001b[1;33m(\u001b[0m\u001b[1;33m)\u001b[0m\u001b[1;33m.\u001b[0m\u001b[0maccuracy\u001b[0m\u001b[1;33m)\u001b[0m\u001b[1;33m\u001b[0m\u001b[1;33m\u001b[0m\u001b[0m\n\u001b[0;32m      5\u001b[0m \u001b[0msb\u001b[0m\u001b[1;33m.\u001b[0m\u001b[0mglue\u001b[0m\u001b[1;33m(\u001b[0m\u001b[1;34m\"max_duration\"\u001b[0m\u001b[1;33m,\u001b[0m \u001b[0mdf\u001b[0m\u001b[1;33m.\u001b[0m\u001b[0mmax\u001b[0m\u001b[1;33m(\u001b[0m\u001b[1;33m)\u001b[0m\u001b[1;33m.\u001b[0m\u001b[0mduration\u001b[0m\u001b[1;33m)\u001b[0m\u001b[1;33m\u001b[0m\u001b[1;33m\u001b[0m\u001b[0m\n",
      "\u001b[1;31mAttributeError\u001b[0m: module 'scrapbook' has no attribute 'glue'"
     ]
    }
   ],
   "source": [
    "# Preserve some of the notebook outputs\n",
    "sb.glue(\"nr_elements\", len(df))\n",
    "sb.glue(\"max_accuray\", df.max().accuracy)\n",
    "sb.glue(\"min_accuray\", df.min().accuracy)\n",
    "sb.glue(\"max_duration\", df.max().duration)\n",
    "sb.glue(\"min_duration\", df.min().duration)"
   ]
  },
  {
   "cell_type": "code",
   "execution_count": null,
   "metadata": {},
   "outputs": [],
   "source": []
  }
 ],
 "metadata": {
  "kernelspec": {
   "display_name": "Python (cv)",
   "language": "python",
   "name": "cv"
  },
  "language_info": {
   "codemirror_mode": {
    "name": "ipython",
    "version": 3
   },
   "file_extension": ".py",
   "mimetype": "text/x-python",
   "name": "python",
   "nbconvert_exporter": "python",
   "pygments_lexer": "ipython3",
   "version": "3.6.8"
  }
 },
 "nbformat": 4,
 "nbformat_minor": 2
}
