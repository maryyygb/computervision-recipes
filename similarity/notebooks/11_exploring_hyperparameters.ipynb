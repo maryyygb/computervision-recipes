{
 "cells": [
  {
   "cell_type": "markdown",
   "metadata": {},
   "source": [
    "<i>Copyright (c) Microsoft Corporation. All rights reserved.</i>\n",
    "\n",
    "<i>Licensed under the MIT License.</i>"
   ]
  },
  {
   "cell_type": "markdown",
   "metadata": {},
   "source": [
    "# Testing different Hyperparameters and Benchmarking"
   ]
  },
  {
   "cell_type": "markdown",
   "metadata": {},
   "source": [
    "In this notebook, we'll cover how to test different hyperparameters for a particular dataset and how to benchmark different parameters across a group of datasets. Note that this re-uses functionality which was already introduced and described in the [classification/notebooks/11_exploring_hyperparameters.ipynb](../../classification/notebooks/11_exploring_hyperparameters.ipynb) notebook. **Please refer to that notebook for all explanations, which this notebook will not repeat.**\n",
    "\n",
    "For an example of how to scale up with remote GPU clusters on Azure Machine Learning, please view [24_exploring_hyperparameters_on_azureml.ipynb](../../classification/notebooks/24_exploring_hyperparameters_on_azureml.ipynb)."
   ]
  },
  {
   "cell_type": "markdown",
   "metadata": {},
   "source": [
    "## Testing hyperparameters"
   ]
  },
  {
   "cell_type": "markdown",
   "metadata": {},
   "source": [
    "Ensure edits to libraries are loaded and plotting is shown in the notebook."
   ]
  },
  {
   "cell_type": "code",
   "execution_count": 1,
   "metadata": {},
   "outputs": [],
   "source": [
    "%reload_ext autoreload\n",
    "%autoreload 2\n",
    "%matplotlib inline"
   ]
  },
  {
   "cell_type": "markdown",
   "metadata": {},
   "source": [
    "We start by importing the utilities we need."
   ]
  },
  {
   "cell_type": "code",
   "execution_count": 2,
   "metadata": {},
   "outputs": [
    {
     "data": {
      "text/plain": [
       "'1.0.48'"
      ]
     },
     "execution_count": 2,
     "metadata": {},
     "output_type": "execute_result"
    }
   ],
   "source": [
    "import sys\n",
    "import numpy as np\n",
    "import scrapbook as sb\n",
    "import fastai\n",
    "from fastai.vision import DatasetType\n",
    "\n",
    "sys.path.append(\"../../\")\n",
    "from utils_cv.classification.data import Urls\n",
    "from utils_cv.common.data import unzip_url\n",
    "from utils_cv.classification.parameter_sweeper import ParameterSweeper, clean_sweeper_df, plot_sweeper_df\n",
    "from utils_cv.similarity.data import comparative_set_builder\n",
    "from utils_cv.similarity.metrics import positive_image_ranks\n",
    "from utils_cv.similarity.model import compute_features_learner\n",
    "\n",
    "fastai.__version__"
   ]
  },
  {
   "cell_type": "markdown",
   "metadata": {},
   "source": [
    "Define the datasets and parameters we will use in this notebook."
   ]
  },
  {
   "cell_type": "code",
   "execution_count": 3,
   "metadata": {
    "tags": [
     "parameters"
    ]
   },
   "outputs": [],
   "source": [
    "DATA_PATHS = [unzip_url(Urls.fridge_objects_path, exist_ok=True), unzip_url(Urls.fridge_objects_watermark_path, exist_ok=True)]\n",
    "REPS = 3\n",
    "LEARNING_RATES = [1e-3, 1e-4, 1e-5]\n",
    "IM_SIZES = [300, 500]\n",
    "EPOCHS = [10]"
   ]
  },
  {
   "cell_type": "markdown",
   "metadata": {},
   "source": [
    "### Similiarity accuracy metric\n",
    "\n",
    "For image classification, we used the percentage of correctly labeled images to measure accuracy. For image retrieval, our measure is the rank of the positive example among a large number of negatives. This was described in the [01_training_and_evaluation_introduction.ipynb](01_training_and_evaluation_introduction.ipynb) notebook, and we will re-use some of the code from that notebook in the definition of the _retrieval_rank()_ function below."
   ]
  },
  {
   "cell_type": "code",
   "execution_count": 4,
   "metadata": {},
   "outputs": [],
   "source": [
    "def retrieval_rank(learn):\n",
    "    data = learn.data\n",
    "\n",
    "    # Build multiple sets of comparative images from the validation images\n",
    "    comparative_sets = comparative_set_builder(\n",
    "        data.valid_ds, num_sets=1000, num_negatives=99\n",
    "    )\n",
    "\n",
    "    # Compute DNN features for all validation images\n",
    "    embedding_layer = learn.model[1][6]\n",
    "    valid_features = compute_features_learner(\n",
    "        data, DatasetType.Valid, learn, embedding_layer\n",
    "    )\n",
    "\n",
    "    # For each comparative set compute the distances between the query image and all reference images\n",
    "    for cs in comparative_sets:\n",
    "        cs.compute_distances(valid_features)\n",
    "\n",
    "    # Compute the median rank of the positive example over all comparative sets\n",
    "    ranks = positive_image_ranks(comparative_sets)\n",
    "    median_rank = np.median(ranks)\n",
    "    return median_rank"
   ]
  },
  {
   "cell_type": "markdown",
   "metadata": {},
   "source": [
    "### Using Python <a name=\"python\"></a>"
   ]
  },
  {
   "cell_type": "markdown",
   "metadata": {},
   "source": [
    "We start by creating the Parameter Sweeper object. Before we start testing, it's a good idea to see what the default parameters are. We can use a the property `parameters` to easily see those default values."
   ]
  },
  {
   "cell_type": "code",
   "execution_count": 5,
   "metadata": {},
   "outputs": [
    {
     "data": {
      "text/plain": [
       "OrderedDict([('learning_rate', [0.0001]),\n",
       "             ('epochs', [15]),\n",
       "             ('batch_size', [16]),\n",
       "             ('im_size', [299]),\n",
       "             ('architecture',\n",
       "              [<Architecture.resnet18: functools.partial(<function resnet18 at 0x7fa253ae6d90>)>]),\n",
       "             ('transform', [True]),\n",
       "             ('dropout', [0.5]),\n",
       "             ('weight_decay', [0.01]),\n",
       "             ('training_schedule',\n",
       "              [<TrainingSchedule.head_first_then_body: 'head_first_then_body'>]),\n",
       "             ('discriminative_lr', [False]),\n",
       "             ('one_cycle_policy', [True])])"
      ]
     },
     "execution_count": 5,
     "metadata": {},
     "output_type": "execute_result"
    }
   ],
   "source": [
    "sweeper = ParameterSweeper(metric_name=\"rank\")\n",
    "sweeper.parameters"
   ]
  },
  {
   "cell_type": "markdown",
   "metadata": {},
   "source": [
    "Now that we know the defaults, we can pass it the parameters we want to test, and run the parameter sweep."
   ]
  },
  {
   "cell_type": "code",
   "execution_count": 6,
   "metadata": {},
   "outputs": [
    {
     "name": "stdout",
     "output_type": "stream",
     "text": [
      "this Learner object self-destroyed - it still exists, but no longer usable\n"
     ]
    },
    {
     "data": {
      "text/html": [
       "<div>\n",
       "<style scoped>\n",
       "    .dataframe tbody tr th:only-of-type {\n",
       "        vertical-align: middle;\n",
       "    }\n",
       "\n",
       "    .dataframe tbody tr th {\n",
       "        vertical-align: top;\n",
       "    }\n",
       "\n",
       "    .dataframe thead th {\n",
       "        text-align: right;\n",
       "    }\n",
       "</style>\n",
       "<table border=\"1\" class=\"dataframe\">\n",
       "  <thead>\n",
       "    <tr style=\"text-align: right;\">\n",
       "      <th></th>\n",
       "      <th></th>\n",
       "      <th></th>\n",
       "      <th>duration</th>\n",
       "      <th>rank</th>\n",
       "    </tr>\n",
       "  </thead>\n",
       "  <tbody>\n",
       "    <tr>\n",
       "      <th rowspan=\"12\" valign=\"top\">0</th>\n",
       "      <th rowspan=\"2\" valign=\"top\">PARAMETERS [learning_rate: 0.0001]|[epochs: 10]|[batch_size: 16]|[im_size: 300]|[arch: resnet18]|[transforms: True]|[dropout: 0.5]|[weight_decay: 0.01]|[training_schedule: head_first_then_body]|[discriminative_lr: False]|[one_cycle_policy: True]</th>\n",
       "      <th>fridgeObjects</th>\n",
       "      <td>20.314687</td>\n",
       "      <td>11.0</td>\n",
       "    </tr>\n",
       "    <tr>\n",
       "      <th>fridgeObjectsWatermark</th>\n",
       "      <td>21.801252</td>\n",
       "      <td>18.0</td>\n",
       "    </tr>\n",
       "    <tr>\n",
       "      <th rowspan=\"2\" valign=\"top\">PARAMETERS [learning_rate: 0.0001]|[epochs: 10]|[batch_size: 16]|[im_size: 500]|[arch: resnet18]|[transforms: True]|[dropout: 0.5]|[weight_decay: 0.01]|[training_schedule: head_first_then_body]|[discriminative_lr: False]|[one_cycle_policy: True]</th>\n",
       "      <th>fridgeObjects</th>\n",
       "      <td>29.789269</td>\n",
       "      <td>10.0</td>\n",
       "    </tr>\n",
       "    <tr>\n",
       "      <th>fridgeObjectsWatermark</th>\n",
       "      <td>28.816838</td>\n",
       "      <td>21.0</td>\n",
       "    </tr>\n",
       "    <tr>\n",
       "      <th rowspan=\"2\" valign=\"top\">PARAMETERS [learning_rate: 0.001]|[epochs: 10]|[batch_size: 16]|[im_size: 300]|[arch: resnet18]|[transforms: True]|[dropout: 0.5]|[weight_decay: 0.01]|[training_schedule: head_first_then_body]|[discriminative_lr: False]|[one_cycle_policy: True]</th>\n",
       "      <th>fridgeObjects</th>\n",
       "      <td>21.593579</td>\n",
       "      <td>1.0</td>\n",
       "    </tr>\n",
       "    <tr>\n",
       "      <th>fridgeObjectsWatermark</th>\n",
       "      <td>18.568001</td>\n",
       "      <td>1.0</td>\n",
       "    </tr>\n",
       "    <tr>\n",
       "      <th rowspan=\"2\" valign=\"top\">PARAMETERS [learning_rate: 0.001]|[epochs: 10]|[batch_size: 16]|[im_size: 500]|[arch: resnet18]|[transforms: True]|[dropout: 0.5]|[weight_decay: 0.01]|[training_schedule: head_first_then_body]|[discriminative_lr: False]|[one_cycle_policy: True]</th>\n",
       "      <th>fridgeObjects</th>\n",
       "      <td>30.742757</td>\n",
       "      <td>1.0</td>\n",
       "    </tr>\n",
       "    <tr>\n",
       "      <th>fridgeObjectsWatermark</th>\n",
       "      <td>29.553885</td>\n",
       "      <td>1.0</td>\n",
       "    </tr>\n",
       "    <tr>\n",
       "      <th rowspan=\"2\" valign=\"top\">PARAMETERS [learning_rate: 1e-05]|[epochs: 10]|[batch_size: 16]|[im_size: 300]|[arch: resnet18]|[transforms: True]|[dropout: 0.5]|[weight_decay: 0.01]|[training_schedule: head_first_then_body]|[discriminative_lr: False]|[one_cycle_policy: True]</th>\n",
       "      <th>fridgeObjects</th>\n",
       "      <td>18.392061</td>\n",
       "      <td>28.0</td>\n",
       "    </tr>\n",
       "    <tr>\n",
       "      <th>fridgeObjectsWatermark</th>\n",
       "      <td>18.458861</td>\n",
       "      <td>31.0</td>\n",
       "    </tr>\n",
       "    <tr>\n",
       "      <th rowspan=\"2\" valign=\"top\">PARAMETERS [learning_rate: 1e-05]|[epochs: 10]|[batch_size: 16]|[im_size: 500]|[arch: resnet18]|[transforms: True]|[dropout: 0.5]|[weight_decay: 0.01]|[training_schedule: head_first_then_body]|[discriminative_lr: False]|[one_cycle_policy: True]</th>\n",
       "      <th>fridgeObjects</th>\n",
       "      <td>30.848107</td>\n",
       "      <td>28.0</td>\n",
       "    </tr>\n",
       "    <tr>\n",
       "      <th>fridgeObjectsWatermark</th>\n",
       "      <td>29.852362</td>\n",
       "      <td>32.0</td>\n",
       "    </tr>\n",
       "    <tr>\n",
       "      <th rowspan=\"12\" valign=\"top\">1</th>\n",
       "      <th rowspan=\"2\" valign=\"top\">PARAMETERS [learning_rate: 0.0001]|[epochs: 10]|[batch_size: 16]|[im_size: 300]|[arch: resnet18]|[transforms: True]|[dropout: 0.5]|[weight_decay: 0.01]|[training_schedule: head_first_then_body]|[discriminative_lr: False]|[one_cycle_policy: True]</th>\n",
       "      <th>fridgeObjects</th>\n",
       "      <td>21.646261</td>\n",
       "      <td>15.0</td>\n",
       "    </tr>\n",
       "    <tr>\n",
       "      <th>fridgeObjectsWatermark</th>\n",
       "      <td>21.590381</td>\n",
       "      <td>10.0</td>\n",
       "    </tr>\n",
       "    <tr>\n",
       "      <th rowspan=\"2\" valign=\"top\">PARAMETERS [learning_rate: 0.0001]|[epochs: 10]|[batch_size: 16]|[im_size: 500]|[arch: resnet18]|[transforms: True]|[dropout: 0.5]|[weight_decay: 0.01]|[training_schedule: head_first_then_body]|[discriminative_lr: False]|[one_cycle_policy: True]</th>\n",
       "      <th>fridgeObjects</th>\n",
       "      <td>32.754983</td>\n",
       "      <td>14.0</td>\n",
       "    </tr>\n",
       "    <tr>\n",
       "      <th>fridgeObjectsWatermark</th>\n",
       "      <td>32.172985</td>\n",
       "      <td>23.0</td>\n",
       "    </tr>\n",
       "    <tr>\n",
       "      <th rowspan=\"2\" valign=\"top\">PARAMETERS [learning_rate: 0.001]|[epochs: 10]|[batch_size: 16]|[im_size: 300]|[arch: resnet18]|[transforms: True]|[dropout: 0.5]|[weight_decay: 0.01]|[training_schedule: head_first_then_body]|[discriminative_lr: False]|[one_cycle_policy: True]</th>\n",
       "      <th>fridgeObjects</th>\n",
       "      <td>20.332246</td>\n",
       "      <td>1.0</td>\n",
       "    </tr>\n",
       "    <tr>\n",
       "      <th>fridgeObjectsWatermark</th>\n",
       "      <td>18.199435</td>\n",
       "      <td>1.0</td>\n",
       "    </tr>\n",
       "    <tr>\n",
       "      <th rowspan=\"2\" valign=\"top\">PARAMETERS [learning_rate: 0.001]|[epochs: 10]|[batch_size: 16]|[im_size: 500]|[arch: resnet18]|[transforms: True]|[dropout: 0.5]|[weight_decay: 0.01]|[training_schedule: head_first_then_body]|[discriminative_lr: False]|[one_cycle_policy: True]</th>\n",
       "      <th>fridgeObjects</th>\n",
       "      <td>30.525014</td>\n",
       "      <td>1.0</td>\n",
       "    </tr>\n",
       "    <tr>\n",
       "      <th>fridgeObjectsWatermark</th>\n",
       "      <td>32.138838</td>\n",
       "      <td>3.0</td>\n",
       "    </tr>\n",
       "    <tr>\n",
       "      <th rowspan=\"2\" valign=\"top\">PARAMETERS [learning_rate: 1e-05]|[epochs: 10]|[batch_size: 16]|[im_size: 300]|[arch: resnet18]|[transforms: True]|[dropout: 0.5]|[weight_decay: 0.01]|[training_schedule: head_first_then_body]|[discriminative_lr: False]|[one_cycle_policy: True]</th>\n",
       "      <th>fridgeObjects</th>\n",
       "      <td>21.819316</td>\n",
       "      <td>22.0</td>\n",
       "    </tr>\n",
       "    <tr>\n",
       "      <th>fridgeObjectsWatermark</th>\n",
       "      <td>20.912637</td>\n",
       "      <td>22.0</td>\n",
       "    </tr>\n",
       "    <tr>\n",
       "      <th rowspan=\"2\" valign=\"top\">PARAMETERS [learning_rate: 1e-05]|[epochs: 10]|[batch_size: 16]|[im_size: 500]|[arch: resnet18]|[transforms: True]|[dropout: 0.5]|[weight_decay: 0.01]|[training_schedule: head_first_then_body]|[discriminative_lr: False]|[one_cycle_policy: True]</th>\n",
       "      <th>fridgeObjects</th>\n",
       "      <td>30.997998</td>\n",
       "      <td>36.5</td>\n",
       "    </tr>\n",
       "    <tr>\n",
       "      <th>fridgeObjectsWatermark</th>\n",
       "      <td>31.900611</td>\n",
       "      <td>26.0</td>\n",
       "    </tr>\n",
       "    <tr>\n",
       "      <th rowspan=\"12\" valign=\"top\">2</th>\n",
       "      <th rowspan=\"2\" valign=\"top\">PARAMETERS [learning_rate: 0.0001]|[epochs: 10]|[batch_size: 16]|[im_size: 300]|[arch: resnet18]|[transforms: True]|[dropout: 0.5]|[weight_decay: 0.01]|[training_schedule: head_first_then_body]|[discriminative_lr: False]|[one_cycle_policy: True]</th>\n",
       "      <th>fridgeObjects</th>\n",
       "      <td>18.015496</td>\n",
       "      <td>13.0</td>\n",
       "    </tr>\n",
       "    <tr>\n",
       "      <th>fridgeObjectsWatermark</th>\n",
       "      <td>19.941105</td>\n",
       "      <td>15.0</td>\n",
       "    </tr>\n",
       "    <tr>\n",
       "      <th rowspan=\"2\" valign=\"top\">PARAMETERS [learning_rate: 0.0001]|[epochs: 10]|[batch_size: 16]|[im_size: 500]|[arch: resnet18]|[transforms: True]|[dropout: 0.5]|[weight_decay: 0.01]|[training_schedule: head_first_then_body]|[discriminative_lr: False]|[one_cycle_policy: True]</th>\n",
       "      <th>fridgeObjects</th>\n",
       "      <td>27.327657</td>\n",
       "      <td>29.0</td>\n",
       "    </tr>\n",
       "    <tr>\n",
       "      <th>fridgeObjectsWatermark</th>\n",
       "      <td>27.342505</td>\n",
       "      <td>14.0</td>\n",
       "    </tr>\n",
       "    <tr>\n",
       "      <th rowspan=\"2\" valign=\"top\">PARAMETERS [learning_rate: 0.001]|[epochs: 10]|[batch_size: 16]|[im_size: 300]|[arch: resnet18]|[transforms: True]|[dropout: 0.5]|[weight_decay: 0.01]|[training_schedule: head_first_then_body]|[discriminative_lr: False]|[one_cycle_policy: True]</th>\n",
       "      <th>fridgeObjects</th>\n",
       "      <td>21.660762</td>\n",
       "      <td>1.0</td>\n",
       "    </tr>\n",
       "    <tr>\n",
       "      <th>fridgeObjectsWatermark</th>\n",
       "      <td>21.655434</td>\n",
       "      <td>1.0</td>\n",
       "    </tr>\n",
       "    <tr>\n",
       "      <th rowspan=\"2\" valign=\"top\">PARAMETERS [learning_rate: 0.001]|[epochs: 10]|[batch_size: 16]|[im_size: 500]|[arch: resnet18]|[transforms: True]|[dropout: 0.5]|[weight_decay: 0.01]|[training_schedule: head_first_then_body]|[discriminative_lr: False]|[one_cycle_policy: True]</th>\n",
       "      <th>fridgeObjects</th>\n",
       "      <td>32.069294</td>\n",
       "      <td>1.0</td>\n",
       "    </tr>\n",
       "    <tr>\n",
       "      <th>fridgeObjectsWatermark</th>\n",
       "      <td>34.771410</td>\n",
       "      <td>1.0</td>\n",
       "    </tr>\n",
       "    <tr>\n",
       "      <th rowspan=\"2\" valign=\"top\">PARAMETERS [learning_rate: 1e-05]|[epochs: 10]|[batch_size: 16]|[im_size: 300]|[arch: resnet18]|[transforms: True]|[dropout: 0.5]|[weight_decay: 0.01]|[training_schedule: head_first_then_body]|[discriminative_lr: False]|[one_cycle_policy: True]</th>\n",
       "      <th>fridgeObjects</th>\n",
       "      <td>21.244502</td>\n",
       "      <td>25.0</td>\n",
       "    </tr>\n",
       "    <tr>\n",
       "      <th>fridgeObjectsWatermark</th>\n",
       "      <td>18.237789</td>\n",
       "      <td>30.0</td>\n",
       "    </tr>\n",
       "    <tr>\n",
       "      <th rowspan=\"2\" valign=\"top\">PARAMETERS [learning_rate: 1e-05]|[epochs: 10]|[batch_size: 16]|[im_size: 500]|[arch: resnet18]|[transforms: True]|[dropout: 0.5]|[weight_decay: 0.01]|[training_schedule: head_first_then_body]|[discriminative_lr: False]|[one_cycle_policy: True]</th>\n",
       "      <th>fridgeObjects</th>\n",
       "      <td>28.966861</td>\n",
       "      <td>28.0</td>\n",
       "    </tr>\n",
       "    <tr>\n",
       "      <th>fridgeObjectsWatermark</th>\n",
       "      <td>29.377904</td>\n",
       "      <td>34.0</td>\n",
       "    </tr>\n",
       "  </tbody>\n",
       "</table>\n",
       "</div>"
      ],
      "text/plain": [
       "                                                                              duration  \\\n",
       "0 PARAMETERS [learning_rate: 0.0001]|[epochs: 10]... fridgeObjects           20.314687   \n",
       "                                                     fridgeObjectsWatermark  21.801252   \n",
       "  PARAMETERS [learning_rate: 0.0001]|[epochs: 10]... fridgeObjects           29.789269   \n",
       "                                                     fridgeObjectsWatermark  28.816838   \n",
       "  PARAMETERS [learning_rate: 0.001]|[epochs: 10]|... fridgeObjects           21.593579   \n",
       "                                                     fridgeObjectsWatermark  18.568001   \n",
       "  PARAMETERS [learning_rate: 0.001]|[epochs: 10]|... fridgeObjects           30.742757   \n",
       "                                                     fridgeObjectsWatermark  29.553885   \n",
       "  PARAMETERS [learning_rate: 1e-05]|[epochs: 10]|... fridgeObjects           18.392061   \n",
       "                                                     fridgeObjectsWatermark  18.458861   \n",
       "  PARAMETERS [learning_rate: 1e-05]|[epochs: 10]|... fridgeObjects           30.848107   \n",
       "                                                     fridgeObjectsWatermark  29.852362   \n",
       "1 PARAMETERS [learning_rate: 0.0001]|[epochs: 10]... fridgeObjects           21.646261   \n",
       "                                                     fridgeObjectsWatermark  21.590381   \n",
       "  PARAMETERS [learning_rate: 0.0001]|[epochs: 10]... fridgeObjects           32.754983   \n",
       "                                                     fridgeObjectsWatermark  32.172985   \n",
       "  PARAMETERS [learning_rate: 0.001]|[epochs: 10]|... fridgeObjects           20.332246   \n",
       "                                                     fridgeObjectsWatermark  18.199435   \n",
       "  PARAMETERS [learning_rate: 0.001]|[epochs: 10]|... fridgeObjects           30.525014   \n",
       "                                                     fridgeObjectsWatermark  32.138838   \n",
       "  PARAMETERS [learning_rate: 1e-05]|[epochs: 10]|... fridgeObjects           21.819316   \n",
       "                                                     fridgeObjectsWatermark  20.912637   \n",
       "  PARAMETERS [learning_rate: 1e-05]|[epochs: 10]|... fridgeObjects           30.997998   \n",
       "                                                     fridgeObjectsWatermark  31.900611   \n",
       "2 PARAMETERS [learning_rate: 0.0001]|[epochs: 10]... fridgeObjects           18.015496   \n",
       "                                                     fridgeObjectsWatermark  19.941105   \n",
       "  PARAMETERS [learning_rate: 0.0001]|[epochs: 10]... fridgeObjects           27.327657   \n",
       "                                                     fridgeObjectsWatermark  27.342505   \n",
       "  PARAMETERS [learning_rate: 0.001]|[epochs: 10]|... fridgeObjects           21.660762   \n",
       "                                                     fridgeObjectsWatermark  21.655434   \n",
       "  PARAMETERS [learning_rate: 0.001]|[epochs: 10]|... fridgeObjects           32.069294   \n",
       "                                                     fridgeObjectsWatermark  34.771410   \n",
       "  PARAMETERS [learning_rate: 1e-05]|[epochs: 10]|... fridgeObjects           21.244502   \n",
       "                                                     fridgeObjectsWatermark  18.237789   \n",
       "  PARAMETERS [learning_rate: 1e-05]|[epochs: 10]|... fridgeObjects           28.966861   \n",
       "                                                     fridgeObjectsWatermark  29.377904   \n",
       "\n",
       "                                                                             rank  \n",
       "0 PARAMETERS [learning_rate: 0.0001]|[epochs: 10]... fridgeObjects           11.0  \n",
       "                                                     fridgeObjectsWatermark  18.0  \n",
       "  PARAMETERS [learning_rate: 0.0001]|[epochs: 10]... fridgeObjects           10.0  \n",
       "                                                     fridgeObjectsWatermark  21.0  \n",
       "  PARAMETERS [learning_rate: 0.001]|[epochs: 10]|... fridgeObjects            1.0  \n",
       "                                                     fridgeObjectsWatermark   1.0  \n",
       "  PARAMETERS [learning_rate: 0.001]|[epochs: 10]|... fridgeObjects            1.0  \n",
       "                                                     fridgeObjectsWatermark   1.0  \n",
       "  PARAMETERS [learning_rate: 1e-05]|[epochs: 10]|... fridgeObjects           28.0  \n",
       "                                                     fridgeObjectsWatermark  31.0  \n",
       "  PARAMETERS [learning_rate: 1e-05]|[epochs: 10]|... fridgeObjects           28.0  \n",
       "                                                     fridgeObjectsWatermark  32.0  \n",
       "1 PARAMETERS [learning_rate: 0.0001]|[epochs: 10]... fridgeObjects           15.0  \n",
       "                                                     fridgeObjectsWatermark  10.0  \n",
       "  PARAMETERS [learning_rate: 0.0001]|[epochs: 10]... fridgeObjects           14.0  \n",
       "                                                     fridgeObjectsWatermark  23.0  \n",
       "  PARAMETERS [learning_rate: 0.001]|[epochs: 10]|... fridgeObjects            1.0  \n",
       "                                                     fridgeObjectsWatermark   1.0  \n",
       "  PARAMETERS [learning_rate: 0.001]|[epochs: 10]|... fridgeObjects            1.0  \n",
       "                                                     fridgeObjectsWatermark   3.0  \n",
       "  PARAMETERS [learning_rate: 1e-05]|[epochs: 10]|... fridgeObjects           22.0  \n",
       "                                                     fridgeObjectsWatermark  22.0  \n",
       "  PARAMETERS [learning_rate: 1e-05]|[epochs: 10]|... fridgeObjects           36.5  \n",
       "                                                     fridgeObjectsWatermark  26.0  \n",
       "2 PARAMETERS [learning_rate: 0.0001]|[epochs: 10]... fridgeObjects           13.0  \n",
       "                                                     fridgeObjectsWatermark  15.0  \n",
       "  PARAMETERS [learning_rate: 0.0001]|[epochs: 10]... fridgeObjects           29.0  \n",
       "                                                     fridgeObjectsWatermark  14.0  \n",
       "  PARAMETERS [learning_rate: 0.001]|[epochs: 10]|... fridgeObjects            1.0  \n",
       "                                                     fridgeObjectsWatermark   1.0  \n",
       "  PARAMETERS [learning_rate: 0.001]|[epochs: 10]|... fridgeObjects            1.0  \n",
       "                                                     fridgeObjectsWatermark   1.0  \n",
       "  PARAMETERS [learning_rate: 1e-05]|[epochs: 10]|... fridgeObjects           25.0  \n",
       "                                                     fridgeObjectsWatermark  30.0  \n",
       "  PARAMETERS [learning_rate: 1e-05]|[epochs: 10]|... fridgeObjects           28.0  \n",
       "                                                     fridgeObjectsWatermark  34.0  "
      ]
     },
     "execution_count": 6,
     "metadata": {},
     "output_type": "execute_result"
    }
   ],
   "source": [
    "sweeper.update_parameters(learning_rate=LEARNING_RATES, im_size=IM_SIZES, epochs=EPOCHS)\n",
    "df = sweeper.run(datasets=DATA_PATHS, reps=REPS, metric_fct=retrieval_rank); \n",
    "df"
   ]
  },
  {
   "cell_type": "markdown",
   "metadata": {},
   "source": [
    "### Visualize Results <a name=\"visualize\"></a>"
   ]
  },
  {
   "cell_type": "markdown",
   "metadata": {},
   "source": [
    "When we read in multi-index dataframe, index 0 represents the run number, index 1 represents a single permutation of parameters, and index 2 represents the dataset. To see the results, show the df using the `clean_sweeper_df` helper function. This will display all the hyperparameters in a nice, readable way."
   ]
  },
  {
   "cell_type": "code",
   "execution_count": 7,
   "metadata": {},
   "outputs": [],
   "source": [
    "df = clean_sweeper_df(df)"
   ]
  },
  {
   "cell_type": "markdown",
   "metadata": {},
   "source": [
    "Since we've run our benchmarking over 3 repetitions, we may want to just look at the averages across the different __run numbers__."
   ]
  },
  {
   "cell_type": "code",
   "execution_count": 8,
   "metadata": {},
   "outputs": [
    {
     "data": {
      "text/html": [
       "<div>\n",
       "<style scoped>\n",
       "    .dataframe tbody tr th:only-of-type {\n",
       "        vertical-align: middle;\n",
       "    }\n",
       "\n",
       "    .dataframe tbody tr th {\n",
       "        vertical-align: top;\n",
       "    }\n",
       "\n",
       "    .dataframe thead tr th {\n",
       "        text-align: left;\n",
       "    }\n",
       "</style>\n",
       "<table border=\"1\" class=\"dataframe\">\n",
       "  <thead>\n",
       "    <tr>\n",
       "      <th></th>\n",
       "      <th colspan=\"2\" halign=\"left\">P: [learning_rate: 0.0001] [im_size: 300]</th>\n",
       "      <th colspan=\"2\" halign=\"left\">P: [learning_rate: 0.0001] [im_size: 500]</th>\n",
       "      <th colspan=\"2\" halign=\"left\">P: [learning_rate: 0.001] [im_size: 300]</th>\n",
       "      <th colspan=\"2\" halign=\"left\">P: [learning_rate: 0.001] [im_size: 500]</th>\n",
       "      <th colspan=\"2\" halign=\"left\">P: [learning_rate: 1e-05] [im_size: 300]</th>\n",
       "      <th colspan=\"2\" halign=\"left\">P: [learning_rate: 1e-05] [im_size: 500]</th>\n",
       "    </tr>\n",
       "    <tr>\n",
       "      <th></th>\n",
       "      <th>fridgeObjects</th>\n",
       "      <th>fridgeObjectsWatermark</th>\n",
       "      <th>fridgeObjects</th>\n",
       "      <th>fridgeObjectsWatermark</th>\n",
       "      <th>fridgeObjects</th>\n",
       "      <th>fridgeObjectsWatermark</th>\n",
       "      <th>fridgeObjects</th>\n",
       "      <th>fridgeObjectsWatermark</th>\n",
       "      <th>fridgeObjects</th>\n",
       "      <th>fridgeObjectsWatermark</th>\n",
       "      <th>fridgeObjects</th>\n",
       "      <th>fridgeObjectsWatermark</th>\n",
       "    </tr>\n",
       "  </thead>\n",
       "  <tbody>\n",
       "    <tr>\n",
       "      <th>duration</th>\n",
       "      <td>19.992148</td>\n",
       "      <td>21.110913</td>\n",
       "      <td>29.957303</td>\n",
       "      <td>29.444109</td>\n",
       "      <td>21.195529</td>\n",
       "      <td>19.47429</td>\n",
       "      <td>31.112355</td>\n",
       "      <td>32.154711</td>\n",
       "      <td>20.485293</td>\n",
       "      <td>19.203096</td>\n",
       "      <td>30.270989</td>\n",
       "      <td>30.376959</td>\n",
       "    </tr>\n",
       "    <tr>\n",
       "      <th>rank</th>\n",
       "      <td>13.000000</td>\n",
       "      <td>14.333333</td>\n",
       "      <td>17.666667</td>\n",
       "      <td>19.333333</td>\n",
       "      <td>1.000000</td>\n",
       "      <td>1.00000</td>\n",
       "      <td>1.000000</td>\n",
       "      <td>1.666667</td>\n",
       "      <td>25.000000</td>\n",
       "      <td>27.666667</td>\n",
       "      <td>30.833333</td>\n",
       "      <td>30.666667</td>\n",
       "    </tr>\n",
       "  </tbody>\n",
       "</table>\n",
       "</div>"
      ],
      "text/plain": [
       "         P: [learning_rate: 0.0001] [im_size: 300]                         \\\n",
       "                                     fridgeObjects fridgeObjectsWatermark   \n",
       "duration                                 19.992148              21.110913   \n",
       "rank                                     13.000000              14.333333   \n",
       "\n",
       "         P: [learning_rate: 0.0001] [im_size: 500]                         \\\n",
       "                                     fridgeObjects fridgeObjectsWatermark   \n",
       "duration                                 29.957303              29.444109   \n",
       "rank                                     17.666667              19.333333   \n",
       "\n",
       "         P: [learning_rate: 0.001] [im_size: 300]                         \\\n",
       "                                    fridgeObjects fridgeObjectsWatermark   \n",
       "duration                                21.195529               19.47429   \n",
       "rank                                     1.000000                1.00000   \n",
       "\n",
       "         P: [learning_rate: 0.001] [im_size: 500]                         \\\n",
       "                                    fridgeObjects fridgeObjectsWatermark   \n",
       "duration                                31.112355              32.154711   \n",
       "rank                                     1.000000               1.666667   \n",
       "\n",
       "         P: [learning_rate: 1e-05] [im_size: 300]                         \\\n",
       "                                    fridgeObjects fridgeObjectsWatermark   \n",
       "duration                                20.485293              19.203096   \n",
       "rank                                    25.000000              27.666667   \n",
       "\n",
       "         P: [learning_rate: 1e-05] [im_size: 500]                         \n",
       "                                    fridgeObjects fridgeObjectsWatermark  \n",
       "duration                                30.270989              30.376959  \n",
       "rank                                    30.833333              30.666667  "
      ]
     },
     "execution_count": 8,
     "metadata": {},
     "output_type": "execute_result"
    }
   ],
   "source": [
    "df.mean(level=(1,2)).T"
   ]
  },
  {
   "cell_type": "markdown",
   "metadata": {},
   "source": [
    "Print the average accuracy over the different runs for each dataset independently."
   ]
  },
  {
   "cell_type": "code",
   "execution_count": 9,
   "metadata": {},
   "outputs": [
    {
     "data": {
      "image/png": "[encoded data removed]",
      "text/plain": [
       "<Figure size 864x432 with 1 Axes>"
      ]
     },
     "metadata": {
      "needs_background": "light"
     },
     "output_type": "display_data"
    }
   ],
   "source": [
    "ax = df.mean(level=(1,2))[\"rank\"].unstack().plot(kind='bar', figsize=(12, 6))"
   ]
  },
  {
   "cell_type": "markdown",
   "metadata": {},
   "source": [
    "Additionally, we may want simply to see which set of hyperparameters perform the best across the different __datasets__. We can do that by averaging the results of the different datasets."
   ]
  },
  {
   "cell_type": "code",
   "execution_count": 10,
   "metadata": {
    "scrolled": true
   },
   "outputs": [
    {
     "data": {
      "text/html": [
       "<div>\n",
       "<style scoped>\n",
       "    .dataframe tbody tr th:only-of-type {\n",
       "        vertical-align: middle;\n",
       "    }\n",
       "\n",
       "    .dataframe tbody tr th {\n",
       "        vertical-align: top;\n",
       "    }\n",
       "\n",
       "    .dataframe thead th {\n",
       "        text-align: right;\n",
       "    }\n",
       "</style>\n",
       "<table border=\"1\" class=\"dataframe\">\n",
       "  <thead>\n",
       "    <tr style=\"text-align: right;\">\n",
       "      <th></th>\n",
       "      <th>P: [learning_rate: 0.0001] [im_size: 300]</th>\n",
       "      <th>P: [learning_rate: 0.0001] [im_size: 500]</th>\n",
       "      <th>P: [learning_rate: 0.001] [im_size: 300]</th>\n",
       "      <th>P: [learning_rate: 0.001] [im_size: 500]</th>\n",
       "      <th>P: [learning_rate: 1e-05] [im_size: 300]</th>\n",
       "      <th>P: [learning_rate: 1e-05] [im_size: 500]</th>\n",
       "    </tr>\n",
       "  </thead>\n",
       "  <tbody>\n",
       "    <tr>\n",
       "      <th>duration</th>\n",
       "      <td>20.551530</td>\n",
       "      <td>29.700706</td>\n",
       "      <td>20.33491</td>\n",
       "      <td>31.633533</td>\n",
       "      <td>19.844194</td>\n",
       "      <td>30.323974</td>\n",
       "    </tr>\n",
       "    <tr>\n",
       "      <th>rank</th>\n",
       "      <td>13.666667</td>\n",
       "      <td>18.500000</td>\n",
       "      <td>1.00000</td>\n",
       "      <td>1.333333</td>\n",
       "      <td>26.333333</td>\n",
       "      <td>30.750000</td>\n",
       "    </tr>\n",
       "  </tbody>\n",
       "</table>\n",
       "</div>"
      ],
      "text/plain": [
       "          P: [learning_rate: 0.0001] [im_size: 300]  \\\n",
       "duration                                  20.551530   \n",
       "rank                                      13.666667   \n",
       "\n",
       "          P: [learning_rate: 0.0001] [im_size: 500]  \\\n",
       "duration                                  29.700706   \n",
       "rank                                      18.500000   \n",
       "\n",
       "          P: [learning_rate: 0.001] [im_size: 300]  \\\n",
       "duration                                  20.33491   \n",
       "rank                                       1.00000   \n",
       "\n",
       "          P: [learning_rate: 0.001] [im_size: 500]  \\\n",
       "duration                                 31.633533   \n",
       "rank                                      1.333333   \n",
       "\n",
       "          P: [learning_rate: 1e-05] [im_size: 300]  \\\n",
       "duration                                 19.844194   \n",
       "rank                                     26.333333   \n",
       "\n",
       "          P: [learning_rate: 1e-05] [im_size: 500]  \n",
       "duration                                 30.323974  \n",
       "rank                                     30.750000  "
      ]
     },
     "execution_count": 10,
     "metadata": {},
     "output_type": "execute_result"
    }
   ],
   "source": [
    "df.mean(level=(1)).T"
   ]
  },
  {
   "cell_type": "markdown",
   "metadata": {},
   "source": [
    "To make it easier to see which permutation did the best, we can plot the results using the `plot_sweeper_df` helper function. This plot will help us easily see which parameters offer the highest accuracies."
   ]
  },
  {
   "cell_type": "code",
   "execution_count": 11,
   "metadata": {},
   "outputs": [
    {
     "data": {
      "image/png": "[encoded data removed]",
      "text/plain": [
       "<Figure size 864x576 with 2 Axes>"
      ]
     },
     "metadata": {
      "needs_background": "light"
     },
     "output_type": "display_data"
    }
   ],
   "source": [
    "plot_sweeper_df(df.mean(level=(1)), sort_by=\"rank\")"
   ]
  },
  {
   "cell_type": "code",
   "execution_count": 12,
   "metadata": {},
   "outputs": [
    {
     "data": {
      "application/scrapbook.scrap.json+json": {
       "data": 36,
       "encoder": "json",
       "name": "nr_elements",
       "version": 1
      }
     },
     "metadata": {
      "scrapbook": {
       "data": true,
       "display": false,
       "name": "nr_elements"
      }
     },
     "output_type": "display_data"
    },
    {
     "data": {
      "application/scrapbook.scrap.json+json": {
       "data": [
        13.666666666666666,
        18.5,
        1,
        1.3333333333333333,
        26.333333333333332,
        30.75
       ],
       "encoder": "json",
       "name": "ranks",
       "version": 1
      }
     },
     "metadata": {
      "scrapbook": {
       "data": true,
       "display": false,
       "name": "ranks"
      }
     },
     "output_type": "display_data"
    },
    {
     "data": {
      "application/scrapbook.scrap.json+json": {
       "data": 34.771409999999996,
       "encoder": "json",
       "name": "max_duration",
       "version": 1
      }
     },
     "metadata": {
      "scrapbook": {
       "data": true,
       "display": false,
       "name": "max_duration"
      }
     },
     "output_type": "display_data"
    },
    {
     "data": {
      "application/scrapbook.scrap.json+json": {
       "data": 18.015496,
       "encoder": "json",
       "name": "min_duration",
       "version": 1
      }
     },
     "metadata": {
      "scrapbook": {
       "data": true,
       "display": false,
       "name": "min_duration"
      }
     },
     "output_type": "display_data"
    }
   ],
   "source": [
    "# Preserve some of the notebook outputs\n",
    "sb.glue(\"nr_elements\", len(df))\n",
    "sb.glue(\"ranks\", list(df.mean(level=(1))[\"rank\"]))\n",
    "sb.glue(\"max_duration\", df.max().duration)\n",
    "sb.glue(\"min_duration\", df.min().duration)"
   ]
  }
 ],
 "metadata": {
  "kernelspec": {
   "display_name": "Python (cv)",
   "language": "python",
   "name": "cv"
  },
  "language_info": {
   "codemirror_mode": {
    "name": "ipython",
    "version": 3
   },
   "file_extension": ".py",
   "mimetype": "text/x-python",
   "name": "python",
   "nbconvert_exporter": "python",
   "pygments_lexer": "ipython3",
   "version": "3.6.8"
  }
 },
 "nbformat": 4,
 "nbformat_minor": 2
}
