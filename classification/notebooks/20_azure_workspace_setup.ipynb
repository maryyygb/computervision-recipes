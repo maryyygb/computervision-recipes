{
 "cells": [
  {
   "cell_type": "markdown",
   "metadata": {},
   "source": [
    "<i>Copyright (c) Microsoft Corporation. All rights reserved.</i>\n",
    "\n",
    "<i>Licensed under the MIT License.</i>\n",
    "\n",
    "# Setup of an Azure workspace"
   ]
  },
  {
   "cell_type": "markdown",
   "metadata": {},
   "source": [
    "## 1. Introduction <a id=\"intro\"></a>\n",
    "\n",
    "This notebook is the first of a series (starting with \"2x_\") that leverage the [Azure Machine Learning Service](https://docs.microsoft.com/en-us/azure/machine-learning/service/overview-what-is-azure-ml). Azure ML, as we also call it, is a service that allows us to train, deploy, automate, and manage machine learning models, at scale, in the cloud.\n",
    "\n",
    "In this tutorial, we will set up an Azure ML workspace. Such resource organizes and coordinates the actions of many other Azure resources to assist in executing and sharing machine learning workflows. In particular, an Azure ML Workspace coordinates storage, databases, and compute resources providing added functionality for machine learning experimentation, deployment, inferencing, and the monitoring of deployed models.\n",
    "\n",
    "## 2. Pre-requisites\n",
    "<a id=\"pre-reqs\"></a>\n",
    "\n",
    "For this and all the other \"2x_\" notebooks to run properly on our machine, we need the following:\n",
    "\n",
    "* Local machine\n",
    "  * Any operation we will run should happen in the \"cvbp\" conda environment. [These instructions](https://github.com/Microsoft/ComputerVision/blob/master/classification/README.md#getting-started) explain how to do that.\n",
    "\n",
    "* Azure subscription\n",
    "  * We also need access to the Azure platform. Unless we already have one, we first should:\n",
    "    * [Create an account](https://azure.microsoft.com/en-us/free/services/machine-learning/)\n",
    "    * [Create a resource group and a workspace](https://docs.microsoft.com/en-us/azure/machine-learning/service/setup-create-workspace#portal)."
   ]
  },
  {
   "cell_type": "markdown",
   "metadata": {},
   "source": [
    "## 3. Azure workspace <a id=\"workspace\"></a>\n",
    "\n",
    "In the different tutorials present in this repository, we typically use the Azure ML SDK. It allows us to access our Azure resources programmatically. As we are running our notebooks in the \"cvbp\" conda environment, the SDK should already be installed on our machine. Let's check which version of the Azure SDK we are working with."
   ]
  },
  {
   "cell_type": "code",
   "execution_count": null,
   "metadata": {},
   "outputs": [],
   "source": [
    "# For automatic reloading of modified libraries\n",
    "%reload_ext autoreload\n",
    "%autoreload 2\n",
    "\n",
    "# Azure\n",
    "import azureml.core\n",
    "from azureml.core import Workspace\n",
    "from azureml.exceptions import ProjectSystemException, UserErrorException\n",
    "\n",
    "# Check core SDK version number\n",
    "print(f\"Azure ML SDK Version: {azureml.core.VERSION}\")"
   ]
  },
  {
   "cell_type": "markdown",
   "metadata": {},
   "source": [
    "We are now ready to load an existing workspace or create a new one, and save it to a local configuration file (`./aml_config/config.json`).\n",
    "\n",
    "If it is the first time we create a workspace, or if we are missing our `config.json` file, we need to provide the appropriate:\n",
    "- <b>subscription ID:</b> the ID of the Azure subscription we are using\n",
    "- <b>resource group:</b> the name of the resource group in which our workspace resides\n",
    "- <b>workspace region:</b> the geographical area in which our workspace resides (examples are available [here](https://azure.microsoft.com/en-us/global-infrastructure/geographies/))\n",
    "- <b>workspace name:</b> the name of the workspace we want to create or retrieve."
   ]
  },
  {
   "cell_type": "code",
   "execution_count": null,
   "metadata": {},
   "outputs": [],
   "source": [
    "# Let's define these variables here - These pieces of information can be found on the portal\n",
    "subscription_id = os.getenv(\"SUBSCRIPTION_ID\", default=\"<our_subscription_id>\")\n",
    "resource_group =  os.getenv(\"RESOURCE_GROUP\", default=\"<our_resource_group>\")\n",
    "workspace_name = os.getenv(\"WORKSPACE_NAME\", default=\"<our_workspace_name>\")\n",
    "workspace_region = os.getenv(\"WORKSPACE_REGION\", default=\"<our_workspace_region>\")\n",
    "\n",
    "try:\n",
    "    # Let's load the workspace from the configuration file\n",
    "    ws = Workspace.from_config()\n",
    "    print(\"Workspace was loaded successfully from the configuration file\")\n",
    "except (UserErrorException, ProjectSystemException):\n",
    "    # or directly from Azure, if it already exists (exist_ok=True).\n",
    "    # If it does not exist, let's create a workspace from scratch\n",
    "    ws = Workspace.create(name=workspace_name,\n",
    "                          subscription_id=subscription_id,\n",
    "                          resource_group=resource_group,\n",
    "                          location=workspace_region,\n",
    "                          create_resource_group=True,\n",
    "                          exist_ok=True\n",
    "                         )\n",
    "    ws.write_config()\n",
    "    print(\"Workspace was loaded successfully from Azure\")"
   ]
  },
  {
   "cell_type": "markdown",
   "metadata": {},
   "source": [
    "Let's check that the workspace is properly loaded"
   ]
  },
  {
   "cell_type": "code",
   "execution_count": null,
   "metadata": {},
   "outputs": [],
   "source": [
    "# Print the workspace attributes\n",
    "print(f'Workspace name: {ws.name}\\n \\\n",
    "      Azure region: {ws.location}\\n \\\n",
    "      Subscription id: {ws.subscription_id}\\n \\\n",
    "      Resource group: {ws.resource_group}')"
   ]
  },
  {
   "cell_type": "markdown",
   "metadata": {},
   "source": [
    "We can also see this workspace on the Azure portal by sequentially clicking on:\n",
    "- Resource groups, and clicking the one we referenced above"
   ]
  },
  {
   "cell_type": "markdown",
   "metadata": {},
   "source": [
    "<img src=\"media/resource_group.jpg\" width=\"800\" alt=\"Azure portal view of resource group\">"
   ]
  },
  {
   "cell_type": "markdown",
   "metadata": {},
   "source": [
    "- Workspace_name"
   ]
  },
  {
   "cell_type": "markdown",
   "metadata": {},
   "source": [
    "<img src=\"media/workspace.jpg\" width=\"800\" alt=\"Azure portal view of workspace\">"
   ]
  },
  {
   "cell_type": "markdown",
   "metadata": {},
   "source": [
    "For more details on the setup of a workspace and other Azure resources, we can refer to this [configuration](https://github.com/Azure/MachineLearningNotebooks/blob/dcce6f227f9ca62e4c201fb48ae9dc8739eaedf7/configuration.ipynb) notebook.\n",
    "\n",
    "## 4. Next steps <a id=\"next-step\"></a>\n",
    "\n",
    "In this notebook, we loaded or created a new workspace, and stored configuration information in a `./aml_config/config.json` file. This is the file we will use in all the Azure ML-related notebooks in this repository. There, we will only need `ws = Workspace.from_config()`.\n",
    "\n",
    "In the next notebook, we will learn how to deploy a trained model as a web service on Azure."
   ]
  }
 ],
 "metadata": {
  "kernelspec": {
   "display_name": "Python (cvbp)",
   "language": "python",
   "name": "cvbp"
  },
  "language_info": {
   "codemirror_mode": {
    "name": "ipython",
    "version": 3
   },
   "file_extension": ".py",
   "mimetype": "text/x-python",
   "name": "python",
   "nbconvert_exporter": "python",
   "pygments_lexer": "ipython3",
   "version": "3.6.8"
  }
 },
 "nbformat": 4,
 "nbformat_minor": 2
}
