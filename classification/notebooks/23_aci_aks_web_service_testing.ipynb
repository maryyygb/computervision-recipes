{
 "cells": [
  {
   "cell_type": "markdown",
   "metadata": {},
   "source": [
    "<i>Copyright (c) Microsoft Corporation. All rights reserved.</i>\n",
    "\n",
    "<i>Licensed under the MIT License.</i>\n",
    "\n",
    "\n",
    "# Testing of web services deployed on ACI and AKS\n",
    "\n",
    "## Table of content\n",
    "1. [Introduction](#intro)\n",
    "1. [Setup](#setup)\n",
    "  1. [Library import](#imports)\n",
    "  1. [Workspace retrieval](#workspace)\n",
    "  1. [Service retrieval](#service)\n",
    "1. [Testing of the web services](#testing)\n",
    "  1. [Using the *run* API](#run)\n",
    "  1. [Via a raw HTTP request](#request)\n",
    "1. [Service telemetry in Application Insights](#insights)\n",
    "1. [Clean up](#clean)\n",
    "  1. [Application Insights deactivation and web service termination](#del_app_insights)\n",
    "  1. [Docker image deletion](#del_image)"
   ]
  },
  {
   "cell_type": "markdown",
   "metadata": {},
   "source": [
    "![Impressions](https://PixelServer20190423114238.azurewebsites.net/api/impressions/ComputerVision/classification/notebooks/23_aci_aks_web_service_testing.png)"
   ]
  },
  {
   "cell_type": "markdown",
   "metadata": {},
   "source": [
    "## 1. Introduction <a id=\"intro\"/>\n",
    "In the 2 prior notebooks, we deployed our machine learning model as a web service on [Azure Container Instances](https://github.com/Microsoft/ComputerVisionBestPractices/blob/master/classification/notebooks/21_deployment_on_azure_container_instances.ipynb) (ACI) and on [Azure Kubernetes Service](https://github.com/Microsoft/ComputerVision/blob/master/classification/notebooks/22_deployment_on_azure_kubernetes_service.ipynb) (AKS). In this notebook, we will learn how to test our service:\n",
    "- Using the `run` API\n",
    "- Via a raw HTTP request.\n",
    "\n",
    "<i><b>Note:</b> We are assuming that notebooks \"20\", \"21\" and \"22\" were previously run, and that we consequently already have a workspace, and a web service that serves our machine learning model on ACI and/or AKS. If that is not the case, we can refer to these three notebooks.</i>"
   ]
  },
  {
   "cell_type": "markdown",
   "metadata": {},
   "source": [
    "## 2. Setup <a id=\"setup\"/>\n",
    "\n",
    "Let's start by retrieving all the elements we need; i.e. python libraries, Azure workspace and web services.\n",
    "\n",
    "### 2.A Library import <a id=\"imports\"/>"
   ]
  },
  {
   "cell_type": "code",
   "execution_count": 22,
   "metadata": {},
   "outputs": [
    {
     "name": "stdout",
     "output_type": "stream",
     "text": [
      "Azure ML SDK Version: 1.0.45\n"
     ]
    }
   ],
   "source": [
    "# For automatic reloading of modified libraries\n",
    "%reload_ext autoreload\n",
    "%autoreload 2\n",
    "\n",
    "# Regular python libraries\n",
    "import inspect\n",
    "import json\n",
    "import os\n",
    "import requests\n",
    "import sys\n",
    "from azureml.core.authentication import AzureCliAuthentication\n",
    "from azureml.core.authentication import InteractiveLoginAuthentication\n",
    "from azureml.core.authentication import AuthenticationException\n",
    "\n",
    "# fast.ai\n",
    "from fastai.vision import open_image\n",
    "\n",
    "# Azure\n",
    "import azureml.core\n",
    "from azureml.core import Workspace\n",
    "\n",
    "# Computer Vision repository\n",
    "sys.path.extend([\".\", \"../..\"])\n",
    "from utils_cv.common.data import data_path\n",
    "from utils_cv.common.image import im2base64, ims2strlist\n",
    "from utils_cv.common.azureml import get_or_create_workspace\n",
    "\n",
    "# Check core SDK version number\n",
    "print(f\"Azure ML SDK Version: {azureml.core.VERSION}\")"
   ]
  },
  {
   "cell_type": "markdown",
   "metadata": {},
   "source": [
    "### 2.B Workspace retrieval <a id=\"workspace\">\n",
    "\n",
    "We get our workspace from the configuration file we created in notebook [\"20\"](https://github.com/Microsoft/ComputerVisionBestPractices/blob/master/classification/notebooks/20_azure_workspace_setup.ipynb), and that was saved in the `.azureml/` folder."
   ]
  },
  {
   "cell_type": "code",
   "execution_count": null,
   "metadata": {
    "tags": [
     "parameters"
    ]
   },
   "outputs": [],
   "source": [
    "# Azure resources\n",
    "# subscription_id = \"2ad17db4-e26d-4c9e-999e-adae9182530c\"#\"YOUR_SUBSCRIPTION_ID\"\n",
    "# resource_group=\"rijaidelnewrg1\"#\"YOUR_RESOURCE_GROUP_NAME\"  \n",
    "# workspace_name=\"rijaidelnewrg1ws7\"#\"YOUR_WORKSPACE_NAME\"  \n",
    "# workspace_region=\"eastus2\" #\"YOUR_WORKSPACE_REGION\" #Possible values eastus, eastus2 and so on.\n",
    "# image_name=\"rijaiamlimage3\" #\"YOUR_IMAGE_NAME\" # without the underscores.\n",
    "\n",
    "subscription_id = \"YOUR_SUBSCRIPTION_ID\"\n",
    "resource_group = \"YOUR_RESOURCE_GROUP_NAME\"  \n",
    "workspace_name = \"YOUR_WORKSPACE_NAME\"  \n",
    "workspace_region = \"YOUR_WORKSPACE_REGION\" #Possible values eastus, eastus2 and so on.\n",
    "\n"
   ]
  },
  {
   "cell_type": "code",
   "execution_count": 24,
   "metadata": {},
   "outputs": [
    {
     "name": "stdout",
     "output_type": "stream",
     "text": [
      "Workspace name: rijaidelnewrg1ws7\n",
      "Workspace region: eastus2\n",
      "Subscription id: 2ad17db4-e26d-4c9e-999e-adae9182530c\n",
      "Resource group: rijaiamltestdel\n"
     ]
    }
   ],
   "source": [
    "# Retrieve the workspace object\n",
    "# ws = Workspace.from_config()\n",
    "\n",
    "# subscription_id = \"2ad17db4-e26d-4c9e-999e-adae9182530c\"\n",
    "# resource_group = \"rijaiamltestdel\"  \n",
    "# workspace_name = \"rijaidelnewrg1ws7\"  \n",
    "# workspace_region = \"eastus2\" #Possible values eastus, eastus2 and so on.\n",
    "# # image_name = \"YOUR_IMAGE_NAME\"  # without the underscores.\n",
    "\n",
    "# --subscription_id=\"2ad17db4-e26d-4c9e-999e-adae9182530c\" --resource_group=\"rijaiamltestdel\" --workspace_name=\"rijaidelnewrg1ws7\" --workspace_region=\"eastus2\" --image_name=\"rijaiamlimage3\" tests/unit/classification/test_aml_notebooks.py\n",
    "\n",
    "\n",
    "ws = get_or_create_workspace(\n",
    "        subscription_id,\n",
    "        resource_group,\n",
    "        workspace_name,\n",
    "        workspace_region)\n",
    "\n",
    "# Print the workspace attributes\n",
    "print('Workspace name: ' + ws.name, \n",
    "      'Workspace region: ' + ws.location, \n",
    "      'Subscription id: ' + ws.subscription_id, \n",
    "      'Resource group: ' + ws.resource_group, sep = '\\n')"
   ]
  },
  {
   "cell_type": "markdown",
   "metadata": {},
   "source": [
    "### 2.C Service retrieval <a id=\"service\">\n",
    "\n",
    "If we have not deleted them in the 2 prior deployment notebooks, the web services we deployed on ACI and AKS should still be up and running. Let's check if that is indeed the case."
   ]
  },
  {
   "cell_type": "code",
   "execution_count": 25,
   "metadata": {},
   "outputs": [
    {
     "data": {
      "text/plain": [
       "{'aks-cpu-image-classif-web-svc': AksWebservice(workspace=Workspace.create(name='rijaidelnewrg1ws7', subscription_id='2ad17db4-e26d-4c9e-999e-adae9182530c', resource_group='rijaiamltestdel'), name=aks-cpu-image-classif-web-svc, image_id=image-classif-resnet18-f48:1, compute_type=AKS, state=None, scoring_uri=http://40.123.51.179:80/api/v1/service/aks-cpu-image-classif-web-svc/score, tags={}, properties={'azureml.git.repository_uri': 'git@github.com:microsoft/ComputerVision.git', 'mlflow.source.git.repoURL': 'git@github.com:microsoft/ComputerVision.git', 'azureml.git.branch': 'rijai/amltesting', 'mlflow.source.git.branch': 'rijai/amltesting', 'azureml.git.commit': '9edb0bc4656a9371da2f9aee22269c86c7e99583', 'mlflow.source.git.commit': '9edb0bc4656a9371da2f9aee22269c86c7e99583', 'azureml.git.dirty': 'True'})}"
      ]
     },
     "execution_count": 25,
     "metadata": {},
     "output_type": "execute_result"
    }
   ],
   "source": [
    "ws.webservices"
   ]
  },
  {
   "cell_type": "markdown",
   "metadata": {},
   "source": [
    "This command should return a dictionary, where the keys are the names we assigned to them.\n",
    "\n",
    "Let's now retrieve the web services of interest."
   ]
  },
  {
   "cell_type": "code",
   "execution_count": null,
   "metadata": {},
   "outputs": [],
   "source": [
    "# Retrieve the web services\n",
    "aci_service = ws.webservices['im-classif-websvc']\n",
    "aks_service = ws.webservices['aks-cpu-image-classif-web-svc']"
   ]
  },
  {
   "cell_type": "markdown",
   "metadata": {},
   "source": [
    "## 3. Testing of the web services <a id=\"testing\">\n",
    "\n",
    "Let's now test our web service. For this, we first need to retrieve test images and to pre-process them into the format expected by our service. A service typically expects input data to be in a JSON serializable format. Here, we use our own `ims2strlist()` function to transform our .jpg images into strings of bytes."
   ]
  },
  {
   "cell_type": "code",
   "execution_count": null,
   "metadata": {},
   "outputs": [],
   "source": [
    "# Check the source code of the conversion functions\n",
    "im2base64_source = inspect.getsource(im2base64)\n",
    "im2strlist_source = inspect.getsource(ims2strlist)\n",
    "print(im2base64_source)\n",
    "print(im2strlist_source)"
   ]
  },
  {
   "cell_type": "code",
   "execution_count": null,
   "metadata": {},
   "outputs": [],
   "source": [
    "# Extract test images paths\n",
    "im_url_root = \"https://cvbp.blob.core.windows.net/public/images/\"\n",
    "im_filenames = [\"cvbp_milk_bottle.jpg\", \"cvbp_water_bottle.jpg\"]\n",
    "\n",
    "for im_filename in im_filenames:\n",
    "    # Retrieve test images from our storage blob\n",
    "    r = requests.get(os.path.join(im_url_root, im_filename))\n",
    "\n",
    "    # Copy test images to local data/ folder\n",
    "    with open(os.path.join(data_path(), im_filename), 'wb') as f:\n",
    "        f.write(r.content)\n",
    "\n",
    "# Extract local path to test images\n",
    "local_im_paths = [os.path.join(data_path(), im_filename) for im_filename in im_filenames]\n",
    "\n",
    "# Convert images to json object\n",
    "im_string_list = ims2strlist(local_im_paths)\n",
    "service_input = json.dumps({\"data\": im_string_list})"
   ]
  },
  {
   "cell_type": "markdown",
   "metadata": {},
   "source": [
    "### 3.A Using the *run* API <a id=\"run\">\n",
    "    \n",
    "In a real case scenario, we would only have one of these 2 services running. In this section, we show how to test that the web service running on ACI is working as expected. The commands we will use here are exactly the same as those we would use for our service running on AKS. We would just need to replace the `aci_service` object by the `aks_service` one."
   ]
  },
  {
   "cell_type": "code",
   "execution_count": null,
   "metadata": {},
   "outputs": [],
   "source": [
    "# Select the web service to test\n",
    "service = aci_service\n",
    "# service = aks_service"
   ]
  },
  {
   "cell_type": "code",
   "execution_count": null,
   "metadata": {},
   "outputs": [],
   "source": [
    "# Predict using the deployed model\n",
    "result = service.run(service_input)"
   ]
  },
  {
   "cell_type": "code",
   "execution_count": null,
   "metadata": {},
   "outputs": [],
   "source": [
    "# Plot the results\n",
    "actual_labels = ['milk_bottle', 'water_bottle']\n",
    "for k in range(len(result)):\n",
    "    title = f\"{actual_labels[k]}/{result[k]['label']} - {round(100.*float(result[k]['probability']), 2)}%\"\n",
    "    open_image(local_im_paths[k]).show(title=title)"
   ]
  },
  {
   "cell_type": "markdown",
   "metadata": {},
   "source": [
    "### 3.B Via a raw HTTP request <a id=\"request\">\n",
    "\n",
    "In the case of AKS, we need to provide an authentication key. So let's look at the 2 examples separately, with the same testing data as before."
   ]
  },
  {
   "cell_type": "code",
   "execution_count": null,
   "metadata": {},
   "outputs": [],
   "source": [
    "# ---------\n",
    "# On ACI\n",
    "# ---------\n",
    "\n",
    "# Extract service URL\n",
    "service_uri = aci_service.scoring_uri\n",
    "print(f\"POST requests to url: {service_uri}\")\n",
    "\n",
    "# Prepare the data\n",
    "payload = {\"data\": im_string_list}\n",
    "\n",
    "# Send the service request\n",
    "resp = requests.post(service_uri, json=payload)\n",
    "\n",
    "# Alternative way of sending the test data\n",
    "# headers = {'Content-Type':'application/json'}\n",
    "# resp = requests.post(service_uri, service_input, headers=headers)\n",
    "\n",
    "print(f\"Prediction: {resp.text}\")"
   ]
  },
  {
   "cell_type": "code",
   "execution_count": null,
   "metadata": {},
   "outputs": [],
   "source": [
    "# ---------\n",
    "# On AKS\n",
    "# ---------\n",
    "\n",
    "# Service URL\n",
    "service_uri = aks_service.scoring_uri\n",
    "print(f\"POST requests to url: {service_uri}\")\n",
    "\n",
    "# Prepare the data\n",
    "payload = {\"data\": im_string_list}\n",
    "\n",
    "# - - - - Specific to AKS - - - -\n",
    "# Authentication keys\n",
    "primary, secondary = aks_service.get_keys()\n",
    "print(f\"Keys to use when calling the service from an external app: {[primary, secondary]}\")\n",
    "\n",
    "# Build the request's parameters\n",
    "key = primary\n",
    "# Set the content type\n",
    "headers = { 'Content-Type':'application/json' }\n",
    "# Set the authorization header\n",
    "headers['Authorization']=f'Bearer {key}'\n",
    "# - - - - - - - - - - - - - - - -\n",
    "\n",
    "# Send the service request\n",
    "resp = requests.post(service_uri, json=payload, headers=headers)\n",
    "# Alternative way of sending the test data\n",
    "# resp = requests.post(service_uri, service_input, headers=headers)\n",
    "\n",
    "print(f\"Predictions: {resp.text}\")"
   ]
  },
  {
   "cell_type": "markdown",
   "metadata": {},
   "source": [
    "## 4. Service telemetry in [Application Insights](https://docs.microsoft.com/en-us/azure/azure-monitor/app/app-insights-overview) <a id=\"insights\"/>\n",
    "\n",
    "Let's now assume that we have users, and that they start sending requests to our web service. As they do so, we want to ensure that our service is up, healthy, returning responses in a timely fashion, and that traffic is reasonable for the resources we allocated to it. For this, we can use Application Insights. This service captures our web service's logs, parses them and provides us with tables and visual representations of what is happening.\n",
    "\n",
    "In the [Azure portal](https://portal.azure.com):\n",
    "- Let's navigate to \"Resource groups\"\n",
    "- Select our subscription and resource group that contain our workspace\n",
    "- Select the Application Insights type associated with our workspace\n",
    "  * _If we have several, we can still go back to our workspace (in the portal) and click on \"Overview\" - This shows the elements associated with our workspace, in particular our Application Insights, on the upper right of the screen_\n",
    "- Click on the App Insights resource\n",
    "    - There, we can see a high level dashboard with information on successful and failed requests, server response time and availability (cf. Figure 1)\n",
    "- Click on the \"Server requests\" graph\n",
    "- In the \"View in Analytics\" drop-down, select \"Request count\" in the \"Analytics\" section\n",
    "    - This displays the specific query ran against the service logs to extract the number of executed requests (successful or not -- cf. Figure 2).\n",
    "- Still in the \"Logs\" page, click on the eye icon next to \"requests\" on the \"Schema\"/left pane, and on \"Table\", on the right:\n",
    "    - This shows the list of calls to the service, with their success statuses, durations, and other metrics. This table is especially useful to investigate problematic requests (cf. Figure 3).\n",
    "    - Results can also be visualized as a graph by clicking on the \"Chart\" tab. Metrics are plotted by default, but we can change them by clicking on one of the field name drop-downs (cf. Figures 4 to 6).\n",
    "- Navigate across the different queries we ran through the different \"New Query X\" tabs.\n",
    "\n",
    "<table>\n",
    "<tr>\n",
    "    <td>\n",
    "        <img src=\"media/webservice_performance_metrics.jpg\"  width=\"400\"/>Figure 1: Web service performance metrics\n",
    "    </td>\n",
    "    <td>\n",
    "        <img src=\"media/application_insights_all_charts.jpg\" width=\"500\"/>Figure 2: Insights into failed requests\n",
    "    </td>\n",
    "</tr>\n",
    "\n",
    "<tr>\n",
    "    <td>\n",
    "        <img src=\"media/logs_failed_request_details.jpg\" width=\"500\"/>Figure 3: Example log of a failed request\n",
    "    </td>\n",
    "    <td>\n",
    "        <img src=\"media/all_requests_line_chart.jpg\"  width=\"400\" alt=\"my alt text\"/>Figure 4: Total request count over time\n",
    "    </td>\n",
    "</tr>\n",
    "\n",
    "\n",
    "<tr>\n",
    "    <td>\n",
    "        <img src=\"media/failures_requests_line_chart.jpg\" width=\"500\"/>Figure 5: Failed request count over time\n",
    "    </td>\n",
    "    <td>\n",
    "        <img src=\"media/success_status_bar_chart.jpg\"  width=\"400\" alt=\"my alt text\"/>Figure 6: Request success distribution\n",
    "    </td>\n",
    "</tr>\n",
    "</table>"
   ]
  },
  {
   "cell_type": "markdown",
   "metadata": {},
   "source": [
    "## 5. Clean up <a id=\"clean\">\n",
    "\n",
    "In a real-life scenario, it is likely that one of our web services would need to be up and running at all times. However, in the present demonstrative case, and now that we have verified that they work, we can delete them as well as all the resources we used.\n",
    "\n",
    "Overall, with a workspace, a web service running on ACI and another one running on a CPU-based AKS cluster, we incurred a cost of about $15 a day (as of May 2019). About 70% was spent on virtual machines, 13% on the container registry (ACR), 12% on the container instances (ACI), and 5% on storage.\n",
    "\n",
    "To get a better sense of pricing, we can refer to [this calculator](https://azure.microsoft.com/en-us/pricing/calculator/?service=virtual-machines). We can also navigate to the [Cost Management + Billing pane](https://ms.portal.azure.com/#blade/Microsoft_Azure_Billing/ModernBillingMenuBlade/BillingAccounts) on the portal, click on our subscription ID, and click on the Cost Analysis tab to check our credit usage.\n",
    "\n",
    "<i><b>Note:</b> In the next notebooks, we will continue to use the AKS web service. This is why we are only deleting the service deployed on ACI.</i>\n",
    "\n",
    "### 5.A Application Insights deactivation and web service termination <a id=\"del_app_insights\">\n",
    "\n",
    "When deleting resources, we need to start by the ones we created last. So, we first deactivate the telemetry and then delete services and compute targets."
   ]
  },
  {
   "cell_type": "code",
   "execution_count": null,
   "metadata": {},
   "outputs": [],
   "source": [
    "# Telemetry deactivation\n",
    "# aks_service.update(enable_app_insights=False)\n",
    "\n",
    "# Services termination\n",
    "aci_service.delete()\n",
    "# aks_service.delete()\n",
    "\n",
    "# Compute target deletion\n",
    "# aks_target.delete()"
   ]
  },
  {
   "cell_type": "markdown",
   "metadata": {},
   "source": [
    "### 5.B Docker image deletion <a id=\"del_image\">\n",
    "\n",
    "Now that the services no longer exist, we can delete the Docker image that we created in [21_deployment_on_azure_container_instances.ipynb](https://github.com/Microsoft/ComputerVisionBestPractices/blob/master/classification/notebooks/21_deployment_on_azure_container_instances.ipynb), and which contains our image classifier model."
   ]
  },
  {
   "cell_type": "code",
   "execution_count": null,
   "metadata": {},
   "outputs": [],
   "source": [
    "print(\"Docker images:\")\n",
    "for docker_im in ws.images:    \n",
    "    print(f\"    --> Name: {ws.images[docker_im].name}\\n\\\n",
    "    --> ID: {ws.images[docker_im].id}\\n\\\n",
    "    --> Tags: {ws.images[docker_im].tags}\\n\\\n",
    "    --> Creation time: {ws.images[docker_im].created_time}\")"
   ]
  },
  {
   "cell_type": "code",
   "execution_count": null,
   "metadata": {},
   "outputs": [],
   "source": [
    "docker_image = ws.images[\"image-classif-resnet18-f48\"]\n",
    "# docker_image.delete()"
   ]
  }
 ],
 "metadata": {
  "celltoolbar": "Tags",
  "kernelspec": {
   "display_name": "cvbp",
   "language": "python",
   "name": "cvbp"
  },
  "language_info": {
   "codemirror_mode": {
    "name": "ipython",
    "version": 3
   },
   "file_extension": ".py",
   "mimetype": "text/x-python",
   "name": "python",
   "nbconvert_exporter": "python",
   "pygments_lexer": "ipython3",
   "version": "3.6.8"
  }
 },
 "nbformat": 4,
 "nbformat_minor": 2
}
