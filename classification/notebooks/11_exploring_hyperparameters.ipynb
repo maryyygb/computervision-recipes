{
 "cells": [
  {
   "cell_type": "markdown",
   "metadata": {},
   "source": [
    "<i>Copyright (c) Microsoft Corporation. All rights reserved.</i>\n",
    "\n",
    "<i>Licensed under the MIT License.</i>"
   ]
  },
  {
   "cell_type": "markdown",
   "metadata": {},
   "source": [
    "# Testing different Hyperparameters and Benchmarking"
   ]
  },
  {
   "cell_type": "markdown",
   "metadata": {},
   "source": [
    "In this notebook, we'll cover how to test different hyperparameters for a particular dataset and how to benchmark different parameters across a group of datasets.\n",
    "\n",
    "## Table of Contents\n",
    "\n",
    "* [Testing hyperparameters](#hyperparam)\n",
    "  * [Using Python](#python)\n",
    "  * [Using the CLI](#cli)\n",
    "  * [Visualizing the results](#visualize)\n",
    "\n",
    "---"
   ]
  },
  {
   "cell_type": "markdown",
   "metadata": {},
   "source": [
    "## Testing hyperparameters  <a name=\"hyperparam\"></a>\n",
    "\n",
    "Let's say we want to learn more about __how different learning rates and different image sizes affect our model's accuracy when restricted to 10 epochs__, and we want to build an experiment to test out these hyperparameters. We also want to try these parameters out on two different variations of the dataset - one where the images are kept raw (maybe there is a watermark on the image) and one where the images have been altered (the same dataset where there was some attempt to remove the watermark).\n",
    "\n",
    "In this notebook, we'll walk through how we use the Parameter Sweeper module with the following:\n",
    "\n",
    "- use python to perform this experiment\n",
    "- use the CLI to perform this experiment\n",
    "- evalute the results using Pandas"
   ]
  },
  {
   "cell_type": "markdown",
   "metadata": {},
   "source": [
    "Check out fastai version."
   ]
  },
  {
   "cell_type": "code",
   "execution_count": 1,
   "metadata": {},
   "outputs": [
    {
     "data": {
      "text/plain": [
       "'1.0.48'"
      ]
     },
     "execution_count": 1,
     "metadata": {},
     "output_type": "execute_result"
    }
   ],
   "source": [
    "import fastai\n",
    "fastai.__version__"
   ]
  },
  {
   "cell_type": "markdown",
   "metadata": {},
   "source": [
    "Ensure edits to libraries are loaded and plotting is shown in the notebook."
   ]
  },
  {
   "cell_type": "code",
   "execution_count": 2,
   "metadata": {},
   "outputs": [],
   "source": [
    "%reload_ext autoreload\n",
    "%autoreload 2\n",
    "%matplotlib inline"
   ]
  },
  {
   "cell_type": "markdown",
   "metadata": {},
   "source": [
    "We start by importing the utilities we need."
   ]
  },
  {
   "cell_type": "code",
   "execution_count": 3,
   "metadata": {},
   "outputs": [],
   "source": [
    "import sys\n",
    "sys.path.append(\"../../\")\n",
    "from utils_cv.classification.data import Urls\n",
    "from utils_cv.common.data import unzip_url\n",
    "from utils_cv.classification.parameter_sweeper import ParameterSweeper, clean_sweeper_df, plot_sweeper_df"
   ]
  },
  {
   "cell_type": "markdown",
   "metadata": {},
   "source": [
    "To use the Parameter Sweeper tool for single label classification, we'll need to make sure that the data is stored such that images are sorted into their classes inside of a subfolder. In this notebook, we'll use the Fridge Objects dataset, which is already stored in the correct format. We also want to use the Fridge Objects Watermarked dataset. We want to see whether the original images (which are watermarked) will perform just as well as the non-watermarked images.\n",
    "\n",
    "Define some parameters we will use in this notebook"
   ]
  },
  {
   "cell_type": "code",
   "execution_count": 4,
   "metadata": {
    "tags": [
     "parameters"
    ]
   },
   "outputs": [],
   "source": [
    "DATA = [unzip_url(Urls.fridge_objects_path, exist_ok=True), unzip_url(Urls.fridge_objects_watermark_path, exist_ok=True)]\n",
    "REPS = 3\n",
    "LEARNING_RATES = [1e-3, 1e-4, 1e-5]\n",
    "IM_SIZES = [299, 499]\n",
    "EPOCHS = [10]"
   ]
  },
  {
   "cell_type": "markdown",
   "metadata": {},
   "source": [
    "### Using Python <a name=\"python\"></a>"
   ]
  },
  {
   "cell_type": "markdown",
   "metadata": {},
   "source": [
    "We start by creating the Parameter Sweeper object:"
   ]
  },
  {
   "cell_type": "code",
   "execution_count": 5,
   "metadata": {},
   "outputs": [],
   "source": [
    "sweeper = ParameterSweeper()"
   ]
  },
  {
   "cell_type": "markdown",
   "metadata": {},
   "source": [
    "Before we start testing, it's a good idea to see what the default parameters are. We can use a the property `parameters` to easily see those default values."
   ]
  },
  {
   "cell_type": "code",
   "execution_count": 6,
   "metadata": {},
   "outputs": [
    {
     "data": {
      "text/plain": [
       "OrderedDict([('learning_rate', [0.0001]),\n",
       "             ('epochs', [15]),\n",
       "             ('batch_size', [16]),\n",
       "             ('im_size', [299]),\n",
       "             ('architecture',\n",
       "              [<Architecture.resnet18: functools.partial(<function resnet18 at 0x7ff70f5eef28>)>]),\n",
       "             ('transform', [True]),\n",
       "             ('dropout', [0.5]),\n",
       "             ('weight_decay', [0.01]),\n",
       "             ('training_schedule',\n",
       "              [<TrainingSchedule.head_first_then_body: 'head_first_then_body'>]),\n",
       "             ('discriminative_lr', [False]),\n",
       "             ('one_cycle_policy', [True])])"
      ]
     },
     "execution_count": 6,
     "metadata": {},
     "output_type": "execute_result"
    }
   ],
   "source": [
    "sweeper.parameters"
   ]
  },
  {
   "cell_type": "markdown",
   "metadata": {},
   "source": [
    "Now that we know the defaults, we can pass it the parameters we want to test. \n",
    "\n",
    "In this notebook, we want to see the effect of different learning rates across different image sizes using only 10 epochs (the default number of epochs is 15). To do so, I would run the `update_parameters` functions as follows:\n",
    "\n",
    "```python\n",
    "sweeper.update_parameters(learning_rate=[1e-3, 1e-4, 1e-5], im_size=[299, 499], epochs=[10])\n",
    "```\n",
    "\n",
    "Notice that all parameters must be passed in as a list, including single values such the number of epochs.\n",
    "\n",
    "These parameters will be used to calculate the number of permutations to run. In this case, we've pass in three options for learning rates, two for image sizes, and one for number of epochs. This will result in 3 X 2 X 1 total permutations (in otherwords, 6 permutations). "
   ]
  },
  {
   "cell_type": "code",
   "execution_count": 7,
   "metadata": {},
   "outputs": [
    {
     "data": {
      "text/plain": [
       "<utils_cv.classification.parameter_sweeper.ParameterSweeper at 0x7ff763058dd8>"
      ]
     },
     "execution_count": 7,
     "metadata": {},
     "output_type": "execute_result"
    }
   ],
   "source": [
    "sweeper.update_parameters(learning_rate=LEARNING_RATES, im_size=IM_SIZES, epochs=EPOCHS)"
   ]
  },
  {
   "cell_type": "markdown",
   "metadata": {},
   "source": [
    "Now that we have our parameters defined, we call the `run()` function with the dataset to test on. We can also optionally pass in:\n",
    "- the number of repetitions to run each permutation (default is 3)\n",
    "- whether or not we want the training to stop early if the metric (accuracy) doesn't improve by 0.01 (1%) over 3 epochs (default is False)\n",
    "\n",
    "The `run` function returns a multi-index dataframe which we can work with right away."
   ]
  },
  {
   "cell_type": "code",
   "execution_count": 8,
   "metadata": {},
   "outputs": [
    {
     "name": "stdout",
     "output_type": "stream",
     "text": [
      "this Learner object self-destroyed - it still exists, but no longer usable\n"
     ]
    },
    {
     "data": {
      "text/html": [
       "<div>\n",
       "<style scoped>\n",
       "    .dataframe tbody tr th:only-of-type {\n",
       "        vertical-align: middle;\n",
       "    }\n",
       "\n",
       "    .dataframe tbody tr th {\n",
       "        vertical-align: top;\n",
       "    }\n",
       "\n",
       "    .dataframe thead th {\n",
       "        text-align: right;\n",
       "    }\n",
       "</style>\n",
       "<table border=\"1\" class=\"dataframe\">\n",
       "  <thead>\n",
       "    <tr style=\"text-align: right;\">\n",
       "      <th></th>\n",
       "      <th></th>\n",
       "      <th></th>\n",
       "      <th>duration</th>\n",
       "      <th>accuracy</th>\n",
       "    </tr>\n",
       "  </thead>\n",
       "  <tbody>\n",
       "    <tr>\n",
       "      <th rowspan=\"12\" valign=\"top\">0</th>\n",
       "      <th rowspan=\"2\" valign=\"top\">PARAMETERS [learning_rate: 0.0001]|[epochs: 10]|[batch_size: 16]|[im_size: 299]|[arch: resnet18]|[transforms: True]|[dropout: 0.5]|[weight_decay: 0.01]|[training_schedule: head_first_then_body]|[discriminative_lr: False]|[one_cycle_policy: True]</th>\n",
       "      <th>fridgeObjects</th>\n",
       "      <td>14.857378</td>\n",
       "      <td>0.909091</td>\n",
       "    </tr>\n",
       "    <tr>\n",
       "      <th>fridgeObjectsWatermark</th>\n",
       "      <td>14.883626</td>\n",
       "      <td>0.886364</td>\n",
       "    </tr>\n",
       "    <tr>\n",
       "      <th rowspan=\"2\" valign=\"top\">PARAMETERS [learning_rate: 0.0001]|[epochs: 10]|[batch_size: 16]|[im_size: 499]|[arch: resnet18]|[transforms: True]|[dropout: 0.5]|[weight_decay: 0.01]|[training_schedule: head_first_then_body]|[discriminative_lr: False]|[one_cycle_policy: True]</th>\n",
       "      <th>fridgeObjects</th>\n",
       "      <td>22.234625</td>\n",
       "      <td>0.863636</td>\n",
       "    </tr>\n",
       "    <tr>\n",
       "      <th>fridgeObjectsWatermark</th>\n",
       "      <td>22.293807</td>\n",
       "      <td>0.704545</td>\n",
       "    </tr>\n",
       "    <tr>\n",
       "      <th rowspan=\"2\" valign=\"top\">PARAMETERS [learning_rate: 0.001]|[epochs: 10]|[batch_size: 16]|[im_size: 299]|[arch: resnet18]|[transforms: True]|[dropout: 0.5]|[weight_decay: 0.01]|[training_schedule: head_first_then_body]|[discriminative_lr: False]|[one_cycle_policy: True]</th>\n",
       "      <th>fridgeObjects</th>\n",
       "      <td>19.317119</td>\n",
       "      <td>0.886364</td>\n",
       "    </tr>\n",
       "    <tr>\n",
       "      <th>fridgeObjectsWatermark</th>\n",
       "      <td>15.197233</td>\n",
       "      <td>0.886364</td>\n",
       "    </tr>\n",
       "    <tr>\n",
       "      <th rowspan=\"2\" valign=\"top\">PARAMETERS [learning_rate: 0.001]|[epochs: 10]|[batch_size: 16]|[im_size: 499]|[arch: resnet18]|[transforms: True]|[dropout: 0.5]|[weight_decay: 0.01]|[training_schedule: head_first_then_body]|[discriminative_lr: False]|[one_cycle_policy: True]</th>\n",
       "      <th>fridgeObjects</th>\n",
       "      <td>23.473061</td>\n",
       "      <td>0.954545</td>\n",
       "    </tr>\n",
       "    <tr>\n",
       "      <th>fridgeObjectsWatermark</th>\n",
       "      <td>22.655902</td>\n",
       "      <td>0.931818</td>\n",
       "    </tr>\n",
       "    <tr>\n",
       "      <th rowspan=\"2\" valign=\"top\">PARAMETERS [learning_rate: 1e-05]|[epochs: 10]|[batch_size: 16]|[im_size: 299]|[arch: resnet18]|[transforms: True]|[dropout: 0.5]|[weight_decay: 0.01]|[training_schedule: head_first_then_body]|[discriminative_lr: False]|[one_cycle_policy: True]</th>\n",
       "      <th>fridgeObjects</th>\n",
       "      <td>14.894483</td>\n",
       "      <td>0.272727</td>\n",
       "    </tr>\n",
       "    <tr>\n",
       "      <th>fridgeObjectsWatermark</th>\n",
       "      <td>15.040211</td>\n",
       "      <td>0.340909</td>\n",
       "    </tr>\n",
       "    <tr>\n",
       "      <th rowspan=\"2\" valign=\"top\">PARAMETERS [learning_rate: 1e-05]|[epochs: 10]|[batch_size: 16]|[im_size: 499]|[arch: resnet18]|[transforms: True]|[dropout: 0.5]|[weight_decay: 0.01]|[training_schedule: head_first_then_body]|[discriminative_lr: False]|[one_cycle_policy: True]</th>\n",
       "      <th>fridgeObjects</th>\n",
       "      <td>22.189479</td>\n",
       "      <td>0.272727</td>\n",
       "    </tr>\n",
       "    <tr>\n",
       "      <th>fridgeObjectsWatermark</th>\n",
       "      <td>22.122559</td>\n",
       "      <td>0.340909</td>\n",
       "    </tr>\n",
       "    <tr>\n",
       "      <th rowspan=\"12\" valign=\"top\">1</th>\n",
       "      <th rowspan=\"2\" valign=\"top\">PARAMETERS [learning_rate: 0.0001]|[epochs: 10]|[batch_size: 16]|[im_size: 299]|[arch: resnet18]|[transforms: True]|[dropout: 0.5]|[weight_decay: 0.01]|[training_schedule: head_first_then_body]|[discriminative_lr: False]|[one_cycle_policy: True]</th>\n",
       "      <th>fridgeObjects</th>\n",
       "      <td>14.964945</td>\n",
       "      <td>0.636364</td>\n",
       "    </tr>\n",
       "    <tr>\n",
       "      <th>fridgeObjectsWatermark</th>\n",
       "      <td>14.880900</td>\n",
       "      <td>0.840909</td>\n",
       "    </tr>\n",
       "    <tr>\n",
       "      <th rowspan=\"2\" valign=\"top\">PARAMETERS [learning_rate: 0.0001]|[epochs: 10]|[batch_size: 16]|[im_size: 499]|[arch: resnet18]|[transforms: True]|[dropout: 0.5]|[weight_decay: 0.01]|[training_schedule: head_first_then_body]|[discriminative_lr: False]|[one_cycle_policy: True]</th>\n",
       "      <th>fridgeObjects</th>\n",
       "      <td>22.379199</td>\n",
       "      <td>0.840909</td>\n",
       "    </tr>\n",
       "    <tr>\n",
       "      <th>fridgeObjectsWatermark</th>\n",
       "      <td>22.235614</td>\n",
       "      <td>0.659091</td>\n",
       "    </tr>\n",
       "    <tr>\n",
       "      <th rowspan=\"2\" valign=\"top\">PARAMETERS [learning_rate: 0.001]|[epochs: 10]|[batch_size: 16]|[im_size: 299]|[arch: resnet18]|[transforms: True]|[dropout: 0.5]|[weight_decay: 0.01]|[training_schedule: head_first_then_body]|[discriminative_lr: False]|[one_cycle_policy: True]</th>\n",
       "      <th>fridgeObjects</th>\n",
       "      <td>14.839557</td>\n",
       "      <td>0.840909</td>\n",
       "    </tr>\n",
       "    <tr>\n",
       "      <th>fridgeObjectsWatermark</th>\n",
       "      <td>14.869665</td>\n",
       "      <td>0.977273</td>\n",
       "    </tr>\n",
       "    <tr>\n",
       "      <th rowspan=\"2\" valign=\"top\">PARAMETERS [learning_rate: 0.001]|[epochs: 10]|[batch_size: 16]|[im_size: 499]|[arch: resnet18]|[transforms: True]|[dropout: 0.5]|[weight_decay: 0.01]|[training_schedule: head_first_then_body]|[discriminative_lr: False]|[one_cycle_policy: True]</th>\n",
       "      <th>fridgeObjects</th>\n",
       "      <td>22.397468</td>\n",
       "      <td>0.909091</td>\n",
       "    </tr>\n",
       "    <tr>\n",
       "      <th>fridgeObjectsWatermark</th>\n",
       "      <td>22.424992</td>\n",
       "      <td>0.954545</td>\n",
       "    </tr>\n",
       "    <tr>\n",
       "      <th rowspan=\"2\" valign=\"top\">PARAMETERS [learning_rate: 1e-05]|[epochs: 10]|[batch_size: 16]|[im_size: 299]|[arch: resnet18]|[transforms: True]|[dropout: 0.5]|[weight_decay: 0.01]|[training_schedule: head_first_then_body]|[discriminative_lr: False]|[one_cycle_policy: True]</th>\n",
       "      <th>fridgeObjects</th>\n",
       "      <td>14.887680</td>\n",
       "      <td>0.318182</td>\n",
       "    </tr>\n",
       "    <tr>\n",
       "      <th>fridgeObjectsWatermark</th>\n",
       "      <td>15.046079</td>\n",
       "      <td>0.272727</td>\n",
       "    </tr>\n",
       "    <tr>\n",
       "      <th rowspan=\"2\" valign=\"top\">PARAMETERS [learning_rate: 1e-05]|[epochs: 10]|[batch_size: 16]|[im_size: 499]|[arch: resnet18]|[transforms: True]|[dropout: 0.5]|[weight_decay: 0.01]|[training_schedule: head_first_then_body]|[discriminative_lr: False]|[one_cycle_policy: True]</th>\n",
       "      <th>fridgeObjects</th>\n",
       "      <td>22.304453</td>\n",
       "      <td>0.340909</td>\n",
       "    </tr>\n",
       "    <tr>\n",
       "      <th>fridgeObjectsWatermark</th>\n",
       "      <td>22.299263</td>\n",
       "      <td>0.159091</td>\n",
       "    </tr>\n",
       "    <tr>\n",
       "      <th rowspan=\"12\" valign=\"top\">2</th>\n",
       "      <th rowspan=\"2\" valign=\"top\">PARAMETERS [learning_rate: 0.0001]|[epochs: 10]|[batch_size: 16]|[im_size: 299]|[arch: resnet18]|[transforms: True]|[dropout: 0.5]|[weight_decay: 0.01]|[training_schedule: head_first_then_body]|[discriminative_lr: False]|[one_cycle_policy: True]</th>\n",
       "      <th>fridgeObjects</th>\n",
       "      <td>14.962609</td>\n",
       "      <td>0.818182</td>\n",
       "    </tr>\n",
       "    <tr>\n",
       "      <th>fridgeObjectsWatermark</th>\n",
       "      <td>15.042777</td>\n",
       "      <td>0.795455</td>\n",
       "    </tr>\n",
       "    <tr>\n",
       "      <th rowspan=\"2\" valign=\"top\">PARAMETERS [learning_rate: 0.0001]|[epochs: 10]|[batch_size: 16]|[im_size: 499]|[arch: resnet18]|[transforms: True]|[dropout: 0.5]|[weight_decay: 0.01]|[training_schedule: head_first_then_body]|[discriminative_lr: False]|[one_cycle_policy: True]</th>\n",
       "      <th>fridgeObjects</th>\n",
       "      <td>22.444724</td>\n",
       "      <td>0.818182</td>\n",
       "    </tr>\n",
       "    <tr>\n",
       "      <th>fridgeObjectsWatermark</th>\n",
       "      <td>22.240431</td>\n",
       "      <td>0.568182</td>\n",
       "    </tr>\n",
       "    <tr>\n",
       "      <th rowspan=\"2\" valign=\"top\">PARAMETERS [learning_rate: 0.001]|[epochs: 10]|[batch_size: 16]|[im_size: 299]|[arch: resnet18]|[transforms: True]|[dropout: 0.5]|[weight_decay: 0.01]|[training_schedule: head_first_then_body]|[discriminative_lr: False]|[one_cycle_policy: True]</th>\n",
       "      <th>fridgeObjects</th>\n",
       "      <td>15.305201</td>\n",
       "      <td>0.954545</td>\n",
       "    </tr>\n",
       "    <tr>\n",
       "      <th>fridgeObjectsWatermark</th>\n",
       "      <td>15.175673</td>\n",
       "      <td>0.909091</td>\n",
       "    </tr>\n",
       "    <tr>\n",
       "      <th rowspan=\"2\" valign=\"top\">PARAMETERS [learning_rate: 0.001]|[epochs: 10]|[batch_size: 16]|[im_size: 499]|[arch: resnet18]|[transforms: True]|[dropout: 0.5]|[weight_decay: 0.01]|[training_schedule: head_first_then_body]|[discriminative_lr: False]|[one_cycle_policy: True]</th>\n",
       "      <th>fridgeObjects</th>\n",
       "      <td>22.186188</td>\n",
       "      <td>0.886364</td>\n",
       "    </tr>\n",
       "    <tr>\n",
       "      <th>fridgeObjectsWatermark</th>\n",
       "      <td>22.715623</td>\n",
       "      <td>0.863636</td>\n",
       "    </tr>\n",
       "    <tr>\n",
       "      <th rowspan=\"2\" valign=\"top\">PARAMETERS [learning_rate: 1e-05]|[epochs: 10]|[batch_size: 16]|[im_size: 299]|[arch: resnet18]|[transforms: True]|[dropout: 0.5]|[weight_decay: 0.01]|[training_schedule: head_first_then_body]|[discriminative_lr: False]|[one_cycle_policy: True]</th>\n",
       "      <th>fridgeObjects</th>\n",
       "      <td>14.979280</td>\n",
       "      <td>0.363636</td>\n",
       "    </tr>\n",
       "    <tr>\n",
       "      <th>fridgeObjectsWatermark</th>\n",
       "      <td>15.063931</td>\n",
       "      <td>0.477273</td>\n",
       "    </tr>\n",
       "    <tr>\n",
       "      <th rowspan=\"2\" valign=\"top\">PARAMETERS [learning_rate: 1e-05]|[epochs: 10]|[batch_size: 16]|[im_size: 499]|[arch: resnet18]|[transforms: True]|[dropout: 0.5]|[weight_decay: 0.01]|[training_schedule: head_first_then_body]|[discriminative_lr: False]|[one_cycle_policy: True]</th>\n",
       "      <th>fridgeObjects</th>\n",
       "      <td>22.407238</td>\n",
       "      <td>0.431818</td>\n",
       "    </tr>\n",
       "    <tr>\n",
       "      <th>fridgeObjectsWatermark</th>\n",
       "      <td>22.100421</td>\n",
       "      <td>0.363636</td>\n",
       "    </tr>\n",
       "  </tbody>\n",
       "</table>\n",
       "</div>"
      ],
      "text/plain": [
       "                                                                              duration  \\\n",
       "0 PARAMETERS [learning_rate: 0.0001]|[epochs: 10]... fridgeObjects           14.857378   \n",
       "                                                     fridgeObjectsWatermark  14.883626   \n",
       "  PARAMETERS [learning_rate: 0.0001]|[epochs: 10]... fridgeObjects           22.234625   \n",
       "                                                     fridgeObjectsWatermark  22.293807   \n",
       "  PARAMETERS [learning_rate: 0.001]|[epochs: 10]|... fridgeObjects           19.317119   \n",
       "                                                     fridgeObjectsWatermark  15.197233   \n",
       "  PARAMETERS [learning_rate: 0.001]|[epochs: 10]|... fridgeObjects           23.473061   \n",
       "                                                     fridgeObjectsWatermark  22.655902   \n",
       "  PARAMETERS [learning_rate: 1e-05]|[epochs: 10]|... fridgeObjects           14.894483   \n",
       "                                                     fridgeObjectsWatermark  15.040211   \n",
       "  PARAMETERS [learning_rate: 1e-05]|[epochs: 10]|... fridgeObjects           22.189479   \n",
       "                                                     fridgeObjectsWatermark  22.122559   \n",
       "1 PARAMETERS [learning_rate: 0.0001]|[epochs: 10]... fridgeObjects           14.964945   \n",
       "                                                     fridgeObjectsWatermark  14.880900   \n",
       "  PARAMETERS [learning_rate: 0.0001]|[epochs: 10]... fridgeObjects           22.379199   \n",
       "                                                     fridgeObjectsWatermark  22.235614   \n",
       "  PARAMETERS [learning_rate: 0.001]|[epochs: 10]|... fridgeObjects           14.839557   \n",
       "                                                     fridgeObjectsWatermark  14.869665   \n",
       "  PARAMETERS [learning_rate: 0.001]|[epochs: 10]|... fridgeObjects           22.397468   \n",
       "                                                     fridgeObjectsWatermark  22.424992   \n",
       "  PARAMETERS [learning_rate: 1e-05]|[epochs: 10]|... fridgeObjects           14.887680   \n",
       "                                                     fridgeObjectsWatermark  15.046079   \n",
       "  PARAMETERS [learning_rate: 1e-05]|[epochs: 10]|... fridgeObjects           22.304453   \n",
       "                                                     fridgeObjectsWatermark  22.299263   \n",
       "2 PARAMETERS [learning_rate: 0.0001]|[epochs: 10]... fridgeObjects           14.962609   \n",
       "                                                     fridgeObjectsWatermark  15.042777   \n",
       "  PARAMETERS [learning_rate: 0.0001]|[epochs: 10]... fridgeObjects           22.444724   \n",
       "                                                     fridgeObjectsWatermark  22.240431   \n",
       "  PARAMETERS [learning_rate: 0.001]|[epochs: 10]|... fridgeObjects           15.305201   \n",
       "                                                     fridgeObjectsWatermark  15.175673   \n",
       "  PARAMETERS [learning_rate: 0.001]|[epochs: 10]|... fridgeObjects           22.186188   \n",
       "                                                     fridgeObjectsWatermark  22.715623   \n",
       "  PARAMETERS [learning_rate: 1e-05]|[epochs: 10]|... fridgeObjects           14.979280   \n",
       "                                                     fridgeObjectsWatermark  15.063931   \n",
       "  PARAMETERS [learning_rate: 1e-05]|[epochs: 10]|... fridgeObjects           22.407238   \n",
       "                                                     fridgeObjectsWatermark  22.100421   \n",
       "\n",
       "                                                                             accuracy  \n",
       "0 PARAMETERS [learning_rate: 0.0001]|[epochs: 10]... fridgeObjects           0.909091  \n",
       "                                                     fridgeObjectsWatermark  0.886364  \n",
       "  PARAMETERS [learning_rate: 0.0001]|[epochs: 10]... fridgeObjects           0.863636  \n",
       "                                                     fridgeObjectsWatermark  0.704545  \n",
       "  PARAMETERS [learning_rate: 0.001]|[epochs: 10]|... fridgeObjects           0.886364  \n",
       "                                                     fridgeObjectsWatermark  0.886364  \n",
       "  PARAMETERS [learning_rate: 0.001]|[epochs: 10]|... fridgeObjects           0.954545  \n",
       "                                                     fridgeObjectsWatermark  0.931818  \n",
       "  PARAMETERS [learning_rate: 1e-05]|[epochs: 10]|... fridgeObjects           0.272727  \n",
       "                                                     fridgeObjectsWatermark  0.340909  \n",
       "  PARAMETERS [learning_rate: 1e-05]|[epochs: 10]|... fridgeObjects           0.272727  \n",
       "                                                     fridgeObjectsWatermark  0.340909  \n",
       "1 PARAMETERS [learning_rate: 0.0001]|[epochs: 10]... fridgeObjects           0.636364  \n",
       "                                                     fridgeObjectsWatermark  0.840909  \n",
       "  PARAMETERS [learning_rate: 0.0001]|[epochs: 10]... fridgeObjects           0.840909  \n",
       "                                                     fridgeObjectsWatermark  0.659091  \n",
       "  PARAMETERS [learning_rate: 0.001]|[epochs: 10]|... fridgeObjects           0.840909  \n",
       "                                                     fridgeObjectsWatermark  0.977273  \n",
       "  PARAMETERS [learning_rate: 0.001]|[epochs: 10]|... fridgeObjects           0.909091  \n",
       "                                                     fridgeObjectsWatermark  0.954545  \n",
       "  PARAMETERS [learning_rate: 1e-05]|[epochs: 10]|... fridgeObjects           0.318182  \n",
       "                                                     fridgeObjectsWatermark  0.272727  \n",
       "  PARAMETERS [learning_rate: 1e-05]|[epochs: 10]|... fridgeObjects           0.340909  \n",
       "                                                     fridgeObjectsWatermark  0.159091  \n",
       "2 PARAMETERS [learning_rate: 0.0001]|[epochs: 10]... fridgeObjects           0.818182  \n",
       "                                                     fridgeObjectsWatermark  0.795455  \n",
       "  PARAMETERS [learning_rate: 0.0001]|[epochs: 10]... fridgeObjects           0.818182  \n",
       "                                                     fridgeObjectsWatermark  0.568182  \n",
       "  PARAMETERS [learning_rate: 0.001]|[epochs: 10]|... fridgeObjects           0.954545  \n",
       "                                                     fridgeObjectsWatermark  0.909091  \n",
       "  PARAMETERS [learning_rate: 0.001]|[epochs: 10]|... fridgeObjects           0.886364  \n",
       "                                                     fridgeObjectsWatermark  0.863636  \n",
       "  PARAMETERS [learning_rate: 1e-05]|[epochs: 10]|... fridgeObjects           0.363636  \n",
       "                                                     fridgeObjectsWatermark  0.477273  \n",
       "  PARAMETERS [learning_rate: 1e-05]|[epochs: 10]|... fridgeObjects           0.431818  \n",
       "                                                     fridgeObjectsWatermark  0.363636  "
      ]
     },
     "execution_count": 8,
     "metadata": {},
     "output_type": "execute_result"
    }
   ],
   "source": [
    "df = sweeper.run(datasets=DATA, reps=REPS); df"
   ]
  },
  {
   "cell_type": "markdown",
   "metadata": {},
   "source": [
    "### Using the CLI <a name=\"cli\"></a>\n",
    "\n",
    "Instead of using python to run this experiment, we may want to test from the CLI. We can do so by using the `scripts/sweep.py` file. \n",
    "\n",
    "To reproduce the same test (different learning rates across different image sizes using only 10 epochs), and the same settings (3 repetitions, and no early_stopping) we can run the following:\n",
    "\n",
    "```sh\n",
    "python scripts/sweep.py \n",
    "    --learning-rates 1e-3 1e-4 1e-5\n",
    "    --im-size 99 299\n",
    "    --epochs 10 \n",
    "    --repeat 3 \n",
    "    --no-early-stopping \n",
    "    --inputs <my-data-dir>\n",
    "    --output lr_bs_test.csv\n",
    "```\n",
    "\n",
    "Additionally, we've added an output parameter, which will automatically dump our dataframe into a csv file. To simplify the command, we can use the acryonyms of the params. We can also remove `--no-early-stopping` as that is the default behavior.\n",
    "\n",
    "```sh\n",
    "python scripts/sweep.py -lr 1e-3 1e-4 1e-5 -is 99 299 -e 10 -i <my-data-dir> -o lr_bs_test.csv\n",
    "```\n",
    "\n",
    "Once the script completes, load the csv into a dataframe to explore it's contents. We'll want to specify `index_col=[0, 1, 2]` since it is a multi-index dataframe.\n",
    "\n",
    "```python\n",
    "df = pd.read_csv(\"data/lr_bs_test.csv\", index_col=[0, 1, 2])\n",
    "```\n",
    "\n",
    "HINT: You can learn more about how to use the script with the `--help` flag.\n",
    "\n",
    "```python\n",
    "python scripts/sweep.py --help\n",
    "```"
   ]
  },
  {
   "cell_type": "markdown",
   "metadata": {},
   "source": [
    "### Visualize Results <a name=\"visualize\"></a>"
   ]
  },
  {
   "cell_type": "markdown",
   "metadata": {},
   "source": [
    "When we read in multi-index dataframe, index 0 represents the run number, index 1 represents a single permutation of parameters, and index 2 represents the dataset."
   ]
  },
  {
   "cell_type": "markdown",
   "metadata": {},
   "source": [
    "To see the results, show the df using the `clean_sweeper_df` helper function. This will display all the hyperparameters in a nice, readable way."
   ]
  },
  {
   "cell_type": "code",
   "execution_count": 9,
   "metadata": {},
   "outputs": [],
   "source": [
    "df = clean_sweeper_df(df)"
   ]
  },
  {
   "cell_type": "markdown",
   "metadata": {},
   "source": [
    "Since we've run our benchmarking over 3 repetitions, we may want to just look at the averages across the different __run numbers__."
   ]
  },
  {
   "cell_type": "code",
   "execution_count": 10,
   "metadata": {},
   "outputs": [
    {
     "data": {
      "text/html": [
       "<div>\n",
       "<style scoped>\n",
       "    .dataframe tbody tr th:only-of-type {\n",
       "        vertical-align: middle;\n",
       "    }\n",
       "\n",
       "    .dataframe tbody tr th {\n",
       "        vertical-align: top;\n",
       "    }\n",
       "\n",
       "    .dataframe thead tr th {\n",
       "        text-align: left;\n",
       "    }\n",
       "</style>\n",
       "<table border=\"1\" class=\"dataframe\">\n",
       "  <thead>\n",
       "    <tr>\n",
       "      <th></th>\n",
       "      <th colspan=\"2\" halign=\"left\">P: [learning_rate: 0.0001] [im_size: 299]</th>\n",
       "      <th colspan=\"2\" halign=\"left\">P: [learning_rate: 0.0001] [im_size: 499]</th>\n",
       "      <th colspan=\"2\" halign=\"left\">P: [learning_rate: 0.001] [im_size: 299]</th>\n",
       "      <th colspan=\"2\" halign=\"left\">P: [learning_rate: 0.001] [im_size: 499]</th>\n",
       "      <th colspan=\"2\" halign=\"left\">P: [learning_rate: 1e-05] [im_size: 299]</th>\n",
       "      <th colspan=\"2\" halign=\"left\">P: [learning_rate: 1e-05] [im_size: 499]</th>\n",
       "    </tr>\n",
       "    <tr>\n",
       "      <th></th>\n",
       "      <th>fridgeObjects</th>\n",
       "      <th>fridgeObjectsWatermark</th>\n",
       "      <th>fridgeObjects</th>\n",
       "      <th>fridgeObjectsWatermark</th>\n",
       "      <th>fridgeObjects</th>\n",
       "      <th>fridgeObjectsWatermark</th>\n",
       "      <th>fridgeObjects</th>\n",
       "      <th>fridgeObjectsWatermark</th>\n",
       "      <th>fridgeObjects</th>\n",
       "      <th>fridgeObjectsWatermark</th>\n",
       "      <th>fridgeObjects</th>\n",
       "      <th>fridgeObjectsWatermark</th>\n",
       "    </tr>\n",
       "  </thead>\n",
       "  <tbody>\n",
       "    <tr>\n",
       "      <th>duration</th>\n",
       "      <td>14.928311</td>\n",
       "      <td>14.935768</td>\n",
       "      <td>22.352849</td>\n",
       "      <td>22.256617</td>\n",
       "      <td>16.487292</td>\n",
       "      <td>15.080857</td>\n",
       "      <td>22.685572</td>\n",
       "      <td>22.598839</td>\n",
       "      <td>14.920481</td>\n",
       "      <td>15.050074</td>\n",
       "      <td>22.300390</td>\n",
       "      <td>22.174081</td>\n",
       "    </tr>\n",
       "    <tr>\n",
       "      <th>accuracy</th>\n",
       "      <td>0.787879</td>\n",
       "      <td>0.840909</td>\n",
       "      <td>0.840909</td>\n",
       "      <td>0.643939</td>\n",
       "      <td>0.893939</td>\n",
       "      <td>0.924243</td>\n",
       "      <td>0.916667</td>\n",
       "      <td>0.916666</td>\n",
       "      <td>0.318182</td>\n",
       "      <td>0.363636</td>\n",
       "      <td>0.348485</td>\n",
       "      <td>0.287879</td>\n",
       "    </tr>\n",
       "  </tbody>\n",
       "</table>\n",
       "</div>"
      ],
      "text/plain": [
       "         P: [learning_rate: 0.0001] [im_size: 299]                         \\\n",
       "                                     fridgeObjects fridgeObjectsWatermark   \n",
       "duration                                 14.928311              14.935768   \n",
       "accuracy                                  0.787879               0.840909   \n",
       "\n",
       "         P: [learning_rate: 0.0001] [im_size: 499]                         \\\n",
       "                                     fridgeObjects fridgeObjectsWatermark   \n",
       "duration                                 22.352849              22.256617   \n",
       "accuracy                                  0.840909               0.643939   \n",
       "\n",
       "         P: [learning_rate: 0.001] [im_size: 299]                         \\\n",
       "                                    fridgeObjects fridgeObjectsWatermark   \n",
       "duration                                16.487292              15.080857   \n",
       "accuracy                                 0.893939               0.924243   \n",
       "\n",
       "         P: [learning_rate: 0.001] [im_size: 499]                         \\\n",
       "                                    fridgeObjects fridgeObjectsWatermark   \n",
       "duration                                22.685572              22.598839   \n",
       "accuracy                                 0.916667               0.916666   \n",
       "\n",
       "         P: [learning_rate: 1e-05] [im_size: 299]                         \\\n",
       "                                    fridgeObjects fridgeObjectsWatermark   \n",
       "duration                                14.920481              15.050074   \n",
       "accuracy                                 0.318182               0.363636   \n",
       "\n",
       "         P: [learning_rate: 1e-05] [im_size: 499]                         \n",
       "                                    fridgeObjects fridgeObjectsWatermark  \n",
       "duration                                22.300390              22.174081  \n",
       "accuracy                                 0.348485               0.287879  "
      ]
     },
     "execution_count": 10,
     "metadata": {},
     "output_type": "execute_result"
    }
   ],
   "source": [
    "df.mean(level=(1,2)).T"
   ]
  },
  {
   "cell_type": "markdown",
   "metadata": {},
   "source": [
    "Print the average accuracy over the different runs for each dataset independently."
   ]
  },
  {
   "cell_type": "code",
   "execution_count": 11,
   "metadata": {},
   "outputs": [
    {
     "data": {
      "text/plain": [
       "[Text(0, 0, '0.00%'),\n",
       " Text(0, 0, '20.00%'),\n",
       " Text(0, 0, '40.00%'),\n",
       " Text(0, 0, '60.00%'),\n",
       " Text(0, 0, '80.00%'),\n",
       " Text(0, 0, '100.00%')]"
      ]
     },
     "execution_count": 11,
     "metadata": {},
     "output_type": "execute_result"
    },
    {
     "data": {
      "image/png": "[encoded data removed]",
      "text/plain": [
       "<Figure size 864x432 with 1 Axes>"
      ]
     },
     "metadata": {
      "needs_background": "light"
     },
     "output_type": "display_data"
    }
   ],
   "source": [
    "ax = df.mean(level=(1,2))[\"accuracy\"].unstack().plot(kind='bar', figsize=(12, 6))\n",
    "ax.set_yticklabels(['{:,.2%}'.format(x) for x in ax.get_yticks()])"
   ]
  },
  {
   "cell_type": "markdown",
   "metadata": {},
   "source": [
    "Additionally, we may want simply to see which set of hyperparameters perform the best across the different __datasets__. We can do that by averaging the results of the different datasets."
   ]
  },
  {
   "cell_type": "code",
   "execution_count": 12,
   "metadata": {
    "scrolled": true
   },
   "outputs": [
    {
     "data": {
      "text/html": [
       "<div>\n",
       "<style scoped>\n",
       "    .dataframe tbody tr th:only-of-type {\n",
       "        vertical-align: middle;\n",
       "    }\n",
       "\n",
       "    .dataframe tbody tr th {\n",
       "        vertical-align: top;\n",
       "    }\n",
       "\n",
       "    .dataframe thead th {\n",
       "        text-align: right;\n",
       "    }\n",
       "</style>\n",
       "<table border=\"1\" class=\"dataframe\">\n",
       "  <thead>\n",
       "    <tr style=\"text-align: right;\">\n",
       "      <th></th>\n",
       "      <th>P: [learning_rate: 0.0001] [im_size: 299]</th>\n",
       "      <th>P: [learning_rate: 0.0001] [im_size: 499]</th>\n",
       "      <th>P: [learning_rate: 0.001] [im_size: 299]</th>\n",
       "      <th>P: [learning_rate: 0.001] [im_size: 499]</th>\n",
       "      <th>P: [learning_rate: 1e-05] [im_size: 299]</th>\n",
       "      <th>P: [learning_rate: 1e-05] [im_size: 499]</th>\n",
       "    </tr>\n",
       "  </thead>\n",
       "  <tbody>\n",
       "    <tr>\n",
       "      <th>duration</th>\n",
       "      <td>14.932039</td>\n",
       "      <td>22.304733</td>\n",
       "      <td>15.784075</td>\n",
       "      <td>22.642206</td>\n",
       "      <td>14.985277</td>\n",
       "      <td>22.237236</td>\n",
       "    </tr>\n",
       "    <tr>\n",
       "      <th>accuracy</th>\n",
       "      <td>0.814394</td>\n",
       "      <td>0.742424</td>\n",
       "      <td>0.909091</td>\n",
       "      <td>0.916667</td>\n",
       "      <td>0.340909</td>\n",
       "      <td>0.318182</td>\n",
       "    </tr>\n",
       "  </tbody>\n",
       "</table>\n",
       "</div>"
      ],
      "text/plain": [
       "          P: [learning_rate: 0.0001] [im_size: 299]  \\\n",
       "duration                                  14.932039   \n",
       "accuracy                                   0.814394   \n",
       "\n",
       "          P: [learning_rate: 0.0001] [im_size: 499]  \\\n",
       "duration                                  22.304733   \n",
       "accuracy                                   0.742424   \n",
       "\n",
       "          P: [learning_rate: 0.001] [im_size: 299]  \\\n",
       "duration                                 15.784075   \n",
       "accuracy                                  0.909091   \n",
       "\n",
       "          P: [learning_rate: 0.001] [im_size: 499]  \\\n",
       "duration                                 22.642206   \n",
       "accuracy                                  0.916667   \n",
       "\n",
       "          P: [learning_rate: 1e-05] [im_size: 299]  \\\n",
       "duration                                 14.985277   \n",
       "accuracy                                  0.340909   \n",
       "\n",
       "          P: [learning_rate: 1e-05] [im_size: 499]  \n",
       "duration                                 22.237236  \n",
       "accuracy                                  0.318182  "
      ]
     },
     "execution_count": 12,
     "metadata": {},
     "output_type": "execute_result"
    }
   ],
   "source": [
    "df.mean(level=(1)).T"
   ]
  },
  {
   "cell_type": "markdown",
   "metadata": {},
   "source": [
    "To make it easier to see which permutation did the best, we can plot the results using the `plot_sweeper_df` helper function. This plot will help us easily see which parameters offer the highest accuracies."
   ]
  },
  {
   "cell_type": "code",
   "execution_count": 13,
   "metadata": {},
   "outputs": [
    {
     "data": {
      "image/png": "[encoded data removed]",
      "text/plain": [
       "<Figure size 864x576 with 2 Axes>"
      ]
     },
     "metadata": {
      "needs_background": "light"
     },
     "output_type": "display_data"
    }
   ],
   "source": [
    "plot_sweeper_df(df.mean(level=(1)), sort_by=\"accuracy\")"
   ]
  }
 ],
 "metadata": {
  "kernelspec": {
   "display_name": "Python (cv)",
   "language": "python",
   "name": "cv"
  },
  "language_info": {
   "codemirror_mode": {
    "name": "ipython",
    "version": 3
   },
   "file_extension": ".py",
   "mimetype": "text/x-python",
   "name": "python",
   "nbconvert_exporter": "python",
   "pygments_lexer": "ipython3",
   "version": "3.6.8"
  }
 },
 "nbformat": 4,
 "nbformat_minor": 2
}
