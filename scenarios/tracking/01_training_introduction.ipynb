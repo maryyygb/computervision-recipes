{
 "cells": [
  {
   "cell_type": "markdown",
   "metadata": {},
   "source": [
    "<i>Copyright (c) Microsoft Corporation. All rights reserved.</i>\n",
    "\n",
    "<i>Licensed under the MIT License.</i>"
   ]
  },
  {
   "cell_type": "markdown",
   "metadata": {},
   "source": [
    "# Training a Multi-Object Tracking Model"
   ]
  },
  {
   "cell_type": "markdown",
   "metadata": {},
   "source": [
    "## 00 Initialization"
   ]
  },
  {
   "cell_type": "code",
   "execution_count": 112,
   "metadata": {},
   "outputs": [],
   "source": [
    "# Ensure edits to libraries are loaded and plotting is shown in the notebook.\n",
    "%reload_ext autoreload\n",
    "%autoreload 2\n",
    "%matplotlib inline"
   ]
  },
  {
   "cell_type": "code",
   "execution_count": 125,
   "metadata": {
    "scrolled": true
   },
   "outputs": [
    {
     "name": "stdout",
     "output_type": "stream",
     "text": [
      "TorchVision: 0.4.0a0+6b959ee\n",
      "Torch is using GPU: Tesla K80\n"
     ]
    }
   ],
   "source": [
    "#Regular Python Libraries\n",
    "import os\n",
    "import os.path as osp\n",
    "import sys\n",
    "\n",
    "# Third party tools\n",
    "from ipywidgets import Video\n",
    "import matplotlib.pyplot as plt\n",
    "import torch\n",
    "import torchvision\n",
    "\n",
    "# Computer Vision repository\n",
    "sys.path.append(\"../../\")\n",
    "from utils_cv.common.data import data_path, download, unzip_url\n",
    "from utils_cv.common.gpu import which_processor, is_windows\n",
    "from utils_cv.tracking.data import Urls\n",
    "from utils_cv.tracking.dataset import TrackingDataset \n",
    "from utils_cv.tracking.model import TrackingLearner, write_video \n",
    "\n",
    "# Change matplotlib backend so that plots are shown for windows\n",
    "if is_windows():\n",
    "    plt.switch_backend(\"TkAgg\")\n",
    "\n",
    "print(f\"TorchVision: {torchvision.__version__}\")\n",
    "which_processor()"
   ]
  },
  {
   "cell_type": "markdown",
   "metadata": {},
   "source": [
    "This shows your machine's GPUs (if it has any) and the computing device `torch/torchvision` is using."
   ]
  },
  {
   "cell_type": "markdown",
   "metadata": {},
   "source": [
    "Next, set some model runtime parameters."
   ]
  },
  {
   "cell_type": "code",
   "execution_count": 94,
   "metadata": {
    "tags": [
     "parameters"
    ]
   },
   "outputs": [
    {
     "name": "stdout",
     "output_type": "stream",
     "text": [
      "Using torch device: cuda\n"
     ]
    }
   ],
   "source": [
    "EPOCHS = 3\n",
    "LEARNING_RATE = 0.0001\n",
    "BATCH_SIZE = 1\n",
    "\n",
    "SAVE_MODEL = True\n",
    "FRAME_RATE = 30\n",
    "\n",
    "CONF_THRES = 0.3\n",
    "TRACK_BUFFER = 300\n",
    "IM_SIZE = (1080, 1920)\n",
    "\n",
    "TRAIN_DATA_PATH = unzip_url(Urls.fridge_objects_path, exist_ok=True)\n",
    "EVAL_DATA_PATH = unzip_url(Urls.carcans_annotations_path, exist_ok=True)\n",
    "\n",
    "BASELINE_MODEL = \"./models/all_dla34_new.pth\"\n",
    "FT_MODEL = \"./models/model_30.pth\"\n",
    "\n",
    "# train on the GPU or on the CPU, if a GPU is not available\n",
    "device = torch.device(\"cuda\") if torch.cuda.is_available() else torch.device(\"cpu\")\n",
    "print(f\"Using torch device: {device}\")"
   ]
  },
  {
   "cell_type": "markdown",
   "metadata": {},
   "source": [
    "## 01 Finetune a Pretrained Model"
   ]
  },
  {
   "cell_type": "markdown",
   "metadata": {},
   "source": [
    "Initialize the training dataset."
   ]
  },
  {
   "cell_type": "code",
   "execution_count": 36,
   "metadata": {},
   "outputs": [
    {
     "name": "stdout",
     "output_type": "stream",
     "text": [
      "================================================================================\n",
      "dataset summary\n",
      "OrderedDict([('default', 4.0)])\n",
      "total # identities: 5\n",
      "start index\n",
      "OrderedDict([('default', 0)])\n",
      "================================================================================\n"
     ]
    }
   ],
   "source": [
    "data_train = TrackingDataset(\n",
    "    TRAIN_DATA_PATH,\n",
    "    batch_size=BATCH_SIZE\n",
    ")"
   ]
  },
  {
   "cell_type": "markdown",
   "metadata": {},
   "source": [
    "Initialize and load the model. We use the baseline FairMOT model, which can be downloaded [here](https://drive.google.com/file/d/1udpOPum8fJdoEQm6n0jsIgMMViOMFinu/view)."
   ]
  },
  {
   "cell_type": "code",
   "execution_count": 50,
   "metadata": {},
   "outputs": [
    {
     "name": "stdout",
     "output_type": "stream",
     "text": [
      "Model: <class 'utils_cv.tracking.references.fairmot.models.networks.pose_dla_dcn.DLASeg'>\n"
     ]
    }
   ],
   "source": [
    "tracker = TrackingLearner(data_train, \"./models/fairmot_ft.pth\")\n",
    "print(f\"Model: {type(tracker.model)}\")"
   ]
  },
  {
   "cell_type": "code",
   "execution_count": 106,
   "metadata": {},
   "outputs": [
    {
     "name": "stdout",
     "output_type": "stream",
     "text": [
      "Loading /data/home/maidapmot/blob_karineMOT/computervision-recipes/scenarios/tracking/models/all_dla34.pth\n",
      "loaded /data/home/maidapmot/blob_karineMOT/computervision-recipes/scenarios/tracking/models/all_dla34.pth, epoch 10\n",
      "=====  Epoch: 1/3  =====\n",
      "loss: 3.927435789257288\n",
      "hm_loss: 0.5748318611840659\n",
      "wh_loss: 2.5956204952672124\n",
      "off_loss: 0.21613109100144356\n",
      "id_loss: 1.4255490968935192\n",
      "time: 4.366666666666666\n",
      "=====  Epoch: 2/3  =====\n",
      "loss: 1.7961845491081476\n",
      "hm_loss: 0.1526481390205845\n",
      "wh_loss: 1.683026997721754\n",
      "off_loss: 0.20444884554308373\n",
      "id_loss: 1.1026265325490385\n",
      "time: 4.383333333333334\n",
      "=====  Epoch: 3/3  =====\n",
      "loss: 1.2963138888590038\n",
      "hm_loss: 0.08059978576193316\n",
      "wh_loss: 1.6261645593913272\n",
      "off_loss: 0.19868546949874144\n",
      "id_loss: 0.9386074647773057\n",
      "time: 4.383333333333334\n",
      "Model saved to ./models/fairmot_ft.pth\n"
     ]
    }
   ],
   "source": [
    "tracker.fit(num_epochs=EPOCHS, lr=LEARNING_RATE) #, resume=True)"
   ]
  },
  {
   "cell_type": "code",
   "execution_count": 109,
   "metadata": {},
   "outputs": [
    {
     "data": {
      "image/png": "[encoded data removed]",
      "text/plain": [
       "<Figure size 720x360 with 1 Axes>"
      ]
     },
     "metadata": {
      "needs_background": "light"
     },
     "output_type": "display_data"
    }
   ],
   "source": [
    "tracker.plot_training_losses()"
   ]
  },
  {
   "cell_type": "code",
   "execution_count": 20,
   "metadata": {
    "scrolled": true
   },
   "outputs": [
    {
     "name": "stdout",
     "output_type": "stream",
     "text": [
      "Model saved to ./models/model_03.pth\n"
     ]
    }
   ],
   "source": [
    "if SAVE_MODEL:\n",
    "    tracker.save(f\"./models/model_{EPOCHS:02d}.pth\")"
   ]
  },
  {
   "cell_type": "markdown",
   "metadata": {},
   "source": [
    "## 02 Evaluate"
   ]
  },
  {
   "cell_type": "markdown",
   "metadata": {},
   "source": [
    "Note that `EVAL_DATA_PATH` follows the FairMOT input format."
   ]
  },
  {
   "cell_type": "code",
   "execution_count": 121,
   "metadata": {
    "scrolled": true
   },
   "outputs": [
    {
     "name": "stdout",
     "output_type": "stream",
     "text": [
      "Creating model...\n",
      "loaded ./models/fairmot_ft.pth, epoch 3\n"
     ]
    }
   ],
   "source": [
    "eval_results = tracker.predict(\n",
    "    EVAL_DATA_PATH,\n",
    "    conf_thres=CONF_THRES,\n",
    "    track_buffer=TRACK_BUFFER,\n",
    "    im_size=IM_SIZE,\n",
    "    frame_rate=FRAME_RATE\n",
    ")"
   ]
  },
  {
   "cell_type": "code",
   "execution_count": 124,
   "metadata": {
    "scrolled": true
   },
   "outputs": [
    {
     "name": "stdout",
     "output_type": "stream",
     "text": [
      "            IDF1   IDP   IDR  Rcll  Prcn GT MT PT ML FP FN IDs  FM   MOTA  MOTP IDt IDa IDm\n",
      "single_vid 33.6% 30.7% 36.5% 34.9% 29.7%  2  0  2  0 52 41   0  10 -47.6% 0.395   0   0   0\n",
      "OVERALL    33.6% 30.7% 36.5% 34.9% 29.7%  2  0  2  0 52 41   0  10 -47.6% 0.395   0   0   0\n"
     ]
    }
   ],
   "source": [
    "eval_metrics = tracker.evaluate(eval_results, EVAL_DATA_PATH) "
   ]
  },
  {
   "cell_type": "markdown",
   "metadata": {},
   "source": [
    "## 03 Predict"
   ]
  },
  {
   "cell_type": "code",
   "execution_count": 99,
   "metadata": {},
   "outputs": [],
   "source": [
    "input_video = download(\n",
    "    Urls.carcans_video_path, osp.join(data_path(), \"carcans.mp4\")\n",
    ")"
   ]
  },
  {
   "cell_type": "code",
   "execution_count": 100,
   "metadata": {
    "scrolled": false
   },
   "outputs": [
    {
     "name": "stdout",
     "output_type": "stream",
     "text": [
      "Creating model...\n",
      "loaded ./models/fairmot_ft.pth, epoch 3\n",
      "Lenth of the video: 251 frames\n"
     ]
    }
   ],
   "source": [
    "test_results = tracker.predict(\n",
    "    input_video,\n",
    "    conf_thres=CONF_THRES,\n",
    "    track_buffer=TRACK_BUFFER,\n",
    "    im_size=IM_SIZE,\n",
    ")"
   ]
  },
  {
   "cell_type": "code",
   "execution_count": 101,
   "metadata": {},
   "outputs": [],
   "source": [
    "output_video = osp.join(data_path(), \"carcans_output.mp4\")"
   ]
  },
  {
   "cell_type": "code",
   "execution_count": 102,
   "metadata": {},
   "outputs": [
    {
     "name": "stdout",
     "output_type": "stream",
     "text": [
      "Output saved to /data/home/maidapmot/blob_karineMOT/computervision-recipes/data/carcans_output.mp4.\n"
     ]
    }
   ],
   "source": [
    "write_video(test_results, input_video, output_video)"
   ]
  },
  {
   "cell_type": "code",
   "execution_count": 103,
   "metadata": {},
   "outputs": [
    {
     "data": {
      "application/vnd.jupyter.widget-view+json": {
       "model_id": "5351fc6a693d424baa1608abfd744f6b",
       "version_major": 2,
       "version_minor": 0
      },
      "text/plain": [
       "Video(value=b'\\x00\\x00\\x00\\x1cftypisom\\x00\\x00\\x02\\x00isomiso2mp41\\x00\\x00\\x00\\x08free\\x011\\x1almdat\\x00\\x00\\x…"
      ]
     },
     "metadata": {},
     "output_type": "display_data"
    }
   ],
   "source": [
    "Video.from_file(output_video)"
   ]
  },
  {
   "cell_type": "code",
   "execution_count": null,
   "metadata": {},
   "outputs": [],
   "source": []
  }
 ],
 "metadata": {
  "kernelspec": {
   "display_name": "cv",
   "language": "python",
   "name": "cv"
  },
  "language_info": {
   "codemirror_mode": {
    "name": "ipython",
    "version": 3
   },
   "file_extension": ".py",
   "mimetype": "text/x-python",
   "name": "python",
   "nbconvert_exporter": "python",
   "pygments_lexer": "ipython3",
   "version": "3.7.6"
  },
  "toc": {
   "base_numbering": 1,
   "nav_menu": {},
   "number_sections": true,
   "sideBar": true,
   "skip_h1_title": false,
   "title_cell": "Table of Contents",
   "title_sidebar": "Contents",
   "toc_cell": false,
   "toc_position": {
    "height": "calc(100% - 180px)",
    "left": "10px",
    "top": "150px",
    "width": "279.444px"
   },
   "toc_section_display": true,
   "toc_window_display": true
  }
 },
 "nbformat": 4,
 "nbformat_minor": 2
}
